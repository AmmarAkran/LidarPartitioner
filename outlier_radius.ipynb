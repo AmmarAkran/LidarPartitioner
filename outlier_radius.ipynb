{
 "cells": [
  {
   "cell_type": "code",
   "execution_count": 1,
   "id": "b4c3563f",
   "metadata": {},
   "outputs": [],
   "source": [
    "import matplotlib\n",
    "import matplotlib.pyplot as plt\n",
    "from datetime import datetime"
   ]
  },
  {
   "cell_type": "code",
   "execution_count": 2,
   "id": "ea0bcef1",
   "metadata": {},
   "outputs": [],
   "source": [
    "import time\n",
    "from math import ceil\n",
    "import yaml, laspy\n",
    "import lithops\n",
    "import pandas as pd\n",
    "import numpy as np\n",
    "# import neilpy\n",
    "from lithops.storage.cloud_proxy import open, os as os_cl\n",
    "from lithops import ServerlessExecutor\n",
    "from lidarpartitioner import lidarutils, utils\n",
    "from lidarpartitioner.las_partitioner import Partitioner\n",
    "from lidarpartitioner.lidarutils import *\n",
    "import lidarpartitioner\n",
    "from lithops.worker.utils import get_memory_usage\n",
    "from sklearn.neighbors import KDTree"
   ]
  },
  {
   "cell_type": "code",
   "execution_count": 3,
   "id": "4426834e",
   "metadata": {},
   "outputs": [],
   "source": [
    "# datetime object containing current date and time\n",
    "now = datetime.now()\n",
    "\n",
    "# dd/mm/YY H:M:S\n",
    "dt_string = now.strftime(\"%d/%m/%Y %H:%M:%S\")\n",
    "\n",
    "datet = dt_string.replace(\":\", \"_\").replace(\" \",\"_\").replace(\"/\",\"_\")"
   ]
  },
  {
   "cell_type": "code",
   "execution_count": 4,
   "id": "39c176ec",
   "metadata": {},
   "outputs": [],
   "source": [
    "def partition_file(fname, out_dir, num_points, sufix, buffer):\n",
    "    divider = Partitioner(fname, sufix)\n",
    "    m_threshold = num_points\n",
    "    divider.make_partition(out_dir, capacity=m_threshold, buffer=buffer)"
   ]
  },
  {
   "cell_type": "code",
   "execution_count": 5,
   "id": "78274e6c",
   "metadata": {},
   "outputs": [],
   "source": [
    "def outlier_filter(id, file, remove_out, buffer, call_time):\n",
    "    \n",
    "    st_map_process = time.time()\n",
    "    Allprocessing_time = dict()\n",
    "    Allprocessing_time['Object_name'] = file.split('/')[-1]\n",
    "    Allprocessing_time['Map_ID'] = id\n",
    "    Allprocessing_time['Buffer'] = buffer\n",
    "    Allprocessing_time['Time_Mapstart'] = round(st_map_process - call_time, 3)\n",
    "    print(\"ID of the function: %s\" % str(id))\n",
    "    \n",
    "    \n",
    "    # read data stream\n",
    "    st_read = time.time()\n",
    "    with open(file, 'rb') as f:\n",
    "        inF = laspy.read(f)\n",
    "    point_cloud = np.vstack((inF.x, inF.y, inF.z, inF.withheld)).T\n",
    "    download_data = time.time() - st_read\n",
    "    Allprocessing_time['Downloading_Time'] = round(download_data, 3) \n",
    "    \n",
    "    \n",
    "    # Start applying outliers filter (radius method)\n",
    "    # https://pdal.io/PDAL.pdf\n",
    "    st_filter = time.time()\n",
    "    radius = 2\n",
    "    min_k = 4\n",
    "    print(len(point_cloud))\n",
    "    try:\n",
    "        tree = KDTree(point_cloud[:,:3], leaf_size=40)\n",
    "        b = point_cloud[:,3] == 0\n",
    "        print(set(b), len(b))\n",
    "        p_ind = np.where(b)\n",
    "        k = tree.query_radius(point_cloud[b][:,:3], r=radius, count_only=True)\n",
    "        outlier = np.asarray(list(map(lambda x: x < min_k, k)))\n",
    "        not_outlier = list(~np.array(outlier))\n",
    "        indices = np.asarray(p_ind[0])[not_outlier]\n",
    "        filtering_time = time.time() - st_filter\n",
    "        \n",
    "        st_wres = time.time()\n",
    "        fname, data = lidarutils.writer_lasfile(inF, indices, file, out_dir=remove_out,\n",
    "                                                 reduce_stream = True, is_bool = False)\n",
    "        en_wres = time.time() - st_wres\n",
    "    except Exception as e:\n",
    "        print('Failed!!. Reason: %s' %(e))\n",
    "    \n",
    "    Allprocessing_time['Filtering_time'] = round(filtering_time, 3)\n",
    "    Allprocessing_time['Save_points'] = round(en_wres, 3)\n",
    "    Allprocessing_time['Maping_time'] = round(time.time() - st_map_process, 3)\n",
    "    Allprocessing_time['sendResult_time'] = time.time()\n",
    "    \n",
    "    return Allprocessing_time, data\n",
    "\n",
    "\n",
    "def merg_res(results):\n",
    "\n",
    "    st_reducer = time.time()\n",
    "    pr_time = dict()\n",
    "    merging = dict()\n",
    "    Filtering_time, RWData_time, Maping_time, sendResult_time  = [], [], [], []\n",
    "    Save_points, PeriodTime_Mapstart = [], []\n",
    "    num_part = len(results)\n",
    "    buffer = results[0][0]['Buffer']\n",
    "    print(num_part)\n",
    "    \n",
    "    res_mapdata = []\n",
    "    for res in results:\n",
    "        obj = dict()\n",
    "        RWData_time.append(res[0]['Downloading_Time'])\n",
    "        Filtering_time.append(res[0]['Filtering_time'])\n",
    "        Save_points.append(res[0]['Save_points'])\n",
    "        Maping_time.append(res[0]['Maping_time'])\n",
    "        PeriodTime_Mapstart.append(res[0]['Time_Mapstart'])\n",
    "        sendResult_time.append(st_reducer - res[0]['sendResult_time'])\n",
    "        obj['Object_name'] = res[0]['Object_name']\n",
    "        obj['data_stream'] = res[1]\n",
    "        res_mapdata.append(obj)\n",
    "    del results\n",
    "    \n",
    "    # Start merging all the results\n",
    "    st_merg = time.time()\n",
    "    m_res = merg_files(res_mapdata, num_part, buffer)\n",
    "    \n",
    "    merging_time = time.time() - st_merg\n",
    "    merging['Merging_time'] = merging_time\n",
    "    \n",
    "    pr_time['Funcs_numbers'] = num_part\n",
    "    pr_time['File_name'] = m_res['File_name']\n",
    "    pr_time['Points_number'] = m_res['Points_number']\n",
    "    pr_time['Time_Mapstart'] = min(PeriodTime_Mapstart)\n",
    "    pr_time['Time_Redstart'] = round(min(sendResult_time), 3)\n",
    "    pr_time['Downloading_Time'] = max(RWData_time)\n",
    "    pr_time['Filtering_time'] = max(Filtering_time)\n",
    "    pr_time['Save_points'] = max(Save_points)\n",
    "    pr_time['Maping_time'] = max(Maping_time)\n",
    "    pr_time['Saving_data_time'] = m_res['Saving_data_time']\n",
    "    pr_time['Merging_files_time'] = m_res['Merging_files_time']\n",
    "    pr_time['Merged_uploading_time'] = m_res['Merged_uploading_time']\n",
    "    pr_time['Merging_process'] = m_res['Merging_process']\n",
    "    pr_time['Reduction_time'] = round(time.time() - st_reducer, 3)\n",
    "    \n",
    "    return pr_time"
   ]
  },
  {
   "cell_type": "code",
   "execution_count": 6,
   "id": "27dcff9a",
   "metadata": {
    "scrolled": true
   },
   "outputs": [
    {
     "name": "stderr",
     "output_type": "stream",
     "text": [
      "2021-11-03 17:11:31,987 [INFO] lithops.config -- Lithops v2.3.1\n",
      "2021-11-03 17:11:32,035 [INFO] lithops.storage.backends.ibm_cos.ibm_cos -- IBM COS Storage client created - Region: us-east\n",
      "2021-11-03 17:11:32,035 [INFO] lithops.serverless.backends.ibm_cf.ibm_cf -- IBM CF client created - Region: us-east - Namespace: fadi.hassan@urv.cat_fadi\n",
      "2021-11-03 17:11:32,035 [INFO] lithops.executors -- Serverless Executor created with ID: 3ddaa2-0\n",
      "2021-11-03 17:11:32,039 [INFO] lithops.invokers -- ExecutorID 3ddaa2-0 | JobID M000 - Selected Runtime: ammarokran/new-smrf-conda36:1.0.6 - 2048MB \n",
      "2021-11-03 17:11:32,075 [INFO] lithops.job.job -- ExecutorID 3ddaa2-0 | JobID M000 - Uploading function and data - Total: 49.9KiB\n",
      "2021-11-03 17:11:33,523 [INFO] lithops.invokers -- ExecutorID 3ddaa2-0 | JobID M000 - Starting function invocation: outlier_filter() - Total: 1 activations\n",
      "2021-11-03 17:11:33,630 [INFO] lithops.invokers -- ExecutorID 3ddaa2-0 | JobID M000 - View execution logs at C:\\Users\\Ammar\\AppData\\Local\\Temp\\lithops\\logs\\3ddaa2-0-M000.log\n",
      "2021-11-03 17:11:33,634 [INFO] lithops.invokers -- ExecutorID 3ddaa2-0 | JobID R000 - Selected Runtime: ammarokran/new-smrf-conda36:1.0.6 - 4096MB \n",
      "2021-11-03 17:11:33,693 [INFO] lithops.job.job -- ExecutorID 3ddaa2-0 | JobID R000 - Uploading function and data - Total: 50.0KiB\n",
      "2021-11-03 17:11:34,398 [INFO] lithops.invokers -- ExecutorID 3ddaa2-0 | JobID R000 - Starting function invocation: merg_res() - Total: 1 activations\n",
      "2021-11-03 17:11:34,507 [INFO] lithops.invokers -- ExecutorID 3ddaa2-0 | JobID R000 - View execution logs at C:\\Users\\Ammar\\AppData\\Local\\Temp\\lithops\\logs\\3ddaa2-0-R000.log\n",
      "2021-11-03 17:11:34,511 [INFO] lithops.executors -- ExecutorID 3ddaa2-0 - Getting results\n"
     ]
    },
    {
     "data": {
      "application/vnd.jupyter.widget-view+json": {
       "model_id": "b4fc09e2d04d466087c7947f22baf2d1",
       "version_major": 2,
       "version_minor": 0
      },
      "text/plain": [
       "    0%|          | 0/2  "
      ]
     },
     "metadata": {},
     "output_type": "display_data"
    },
    {
     "name": "stderr",
     "output_type": "stream",
     "text": [
      "2021-11-03 17:14:00,805 [INFO] lithops.executors -- ExecutorID 3ddaa2-0 - Cleaning temporary data\n"
     ]
    },
    {
     "name": "stdout",
     "output_type": "stream",
     "text": [
      "Total processing time: 149.52755498886108 s\n"
     ]
    },
    {
     "name": "stderr",
     "output_type": "stream",
     "text": [
      "2021-11-03 17:16:57,256 [INFO] lithops.config -- Lithops v2.3.1\n",
      "2021-11-03 17:16:57,288 [INFO] lithops.storage.backends.ibm_cos.ibm_cos -- IBM COS Storage client created - Region: us-east\n",
      "2021-11-03 17:16:57,292 [INFO] lithops.serverless.backends.ibm_cf.ibm_cf -- IBM CF client created - Region: us-east - Namespace: fadi.hassan@urv.cat_fadi\n",
      "2021-11-03 17:16:57,292 [INFO] lithops.executors -- Serverless Executor created with ID: 3ddaa2-1\n",
      "2021-11-03 17:16:57,292 [INFO] lithops.invokers -- ExecutorID 3ddaa2-1 | JobID M000 - Selected Runtime: ammarokran/part-lidar:1.0 - 3072MB \n",
      "2021-11-03 17:16:57,320 [INFO] lithops.job.job -- ExecutorID 3ddaa2-1 | JobID M000 - Uploading function and data - Total: 48.0KiB\n",
      "2021-11-03 17:16:58,713 [INFO] lithops.invokers -- ExecutorID 3ddaa2-1 | JobID M000 - Starting function invocation: partition_file() - Total: 1 activations\n",
      "2021-11-03 17:16:58,834 [INFO] lithops.invokers -- ExecutorID 3ddaa2-1 | JobID M000 - View execution logs at C:\\Users\\Ammar\\AppData\\Local\\Temp\\lithops\\logs\\3ddaa2-1-M000.log\n",
      "2021-11-03 17:16:58,838 [INFO] lithops.executors -- ExecutorID 3ddaa2-1 - Getting results\n"
     ]
    },
    {
     "data": {
      "application/vnd.jupyter.widget-view+json": {
       "model_id": "7b635660d99c430aafc3003637558775",
       "version_major": 2,
       "version_minor": 0
      },
      "text/plain": [
       "    0%|          | 0/1  "
      ]
     },
     "metadata": {},
     "output_type": "display_data"
    },
    {
     "name": "stderr",
     "output_type": "stream",
     "text": [
      "2021-11-03 17:19:36,110 [INFO] lithops.executors -- ExecutorID 3ddaa2-1 - Cleaning temporary data\n",
      "2021-11-03 17:19:36,265 [INFO] lithops.config -- Lithops v2.3.1\n"
     ]
    },
    {
     "name": "stdout",
     "output_type": "stream",
     "text": [
      "Total partition time: 158.86642861366272 s\n"
     ]
    },
    {
     "name": "stderr",
     "output_type": "stream",
     "text": [
      "2021-11-03 17:19:36,469 [INFO] lithops.storage.backends.ibm_cos.ibm_cos -- IBM COS Storage client created - Region: us-east\n",
      "2021-11-03 17:19:36,473 [INFO] lithops.serverless.backends.ibm_cf.ibm_cf -- IBM CF client created - Region: us-east - Namespace: fadi.hassan@urv.cat_fadi\n",
      "2021-11-03 17:19:36,477 [INFO] lithops.executors -- Serverless Executor created with ID: 3ddaa2-2\n",
      "2021-11-03 17:19:36,477 [INFO] lithops.invokers -- ExecutorID 3ddaa2-2 | JobID M000 - Selected Runtime: ammarokran/new-smrf-conda36:1.0.6 - 1024MB \n",
      "2021-11-03 17:19:36,639 [INFO] lithops.job.job -- ExecutorID 3ddaa2-2 | JobID M000 - Uploading function and data - Total: 50.1KiB\n",
      "2021-11-03 17:19:37,934 [INFO] lithops.invokers -- ExecutorID 3ddaa2-2 | JobID M000 - Starting function invocation: outlier_filter() - Total: 2 activations\n",
      "2021-11-03 17:19:38,040 [INFO] lithops.invokers -- ExecutorID 3ddaa2-2 | JobID M000 - View execution logs at C:\\Users\\Ammar\\AppData\\Local\\Temp\\lithops\\logs\\3ddaa2-2-M000.log\n",
      "2021-11-03 17:19:38,043 [INFO] lithops.invokers -- ExecutorID 3ddaa2-2 | JobID R000 - Selected Runtime: ammarokran/new-smrf-conda36:1.0.6 - 4096MB \n",
      "2021-11-03 17:19:38,240 [INFO] lithops.job.job -- ExecutorID 3ddaa2-2 | JobID R000 - Uploading function and data - Total: 50.2KiB\n",
      "2021-11-03 17:19:38,778 [INFO] lithops.invokers -- ExecutorID 3ddaa2-2 | JobID R000 - Starting function invocation: merg_res() - Total: 1 activations\n",
      "2021-11-03 17:19:38,887 [INFO] lithops.invokers -- ExecutorID 3ddaa2-2 | JobID R000 - View execution logs at C:\\Users\\Ammar\\AppData\\Local\\Temp\\lithops\\logs\\3ddaa2-2-R000.log\n",
      "2021-11-03 17:19:38,887 [INFO] lithops.executors -- ExecutorID 3ddaa2-2 - Getting results\n"
     ]
    },
    {
     "data": {
      "application/vnd.jupyter.widget-view+json": {
       "model_id": "066f1fea4d9743549908437c9fb9f9b1",
       "version_major": 2,
       "version_minor": 0
      },
      "text/plain": [
       "    0%|          | 0/3  "
      ]
     },
     "metadata": {},
     "output_type": "display_data"
    },
    {
     "name": "stderr",
     "output_type": "stream",
     "text": [
      "2021-11-03 17:21:13,587 [INFO] lithops.executors -- ExecutorID 3ddaa2-2 - Cleaning temporary data\n"
     ]
    },
    {
     "name": "stdout",
     "output_type": "stream",
     "text": [
      "Total processing time: 97.47281408309937 s\n"
     ]
    },
    {
     "name": "stderr",
     "output_type": "stream",
     "text": [
      "2021-11-03 17:21:15,342 [INFO] lithops.config -- Lithops v2.3.1\n",
      "2021-11-03 17:21:15,376 [INFO] lithops.storage.backends.ibm_cos.ibm_cos -- IBM COS Storage client created - Region: us-east\n",
      "2021-11-03 17:21:15,376 [INFO] lithops.serverless.backends.ibm_cf.ibm_cf -- IBM CF client created - Region: us-east - Namespace: fadi.hassan@urv.cat_fadi\n",
      "2021-11-03 17:21:15,380 [INFO] lithops.executors -- Serverless Executor created with ID: 3ddaa2-3\n",
      "2021-11-03 17:21:15,380 [INFO] lithops.invokers -- ExecutorID 3ddaa2-3 | JobID M000 - Selected Runtime: ammarokran/part-lidar:1.0 - 3072MB \n",
      "2021-11-03 17:21:15,420 [INFO] lithops.job.job -- ExecutorID 3ddaa2-3 | JobID M000 - Uploading function and data - Total: 48.0KiB\n",
      "2021-11-03 17:21:16,466 [INFO] lithops.invokers -- ExecutorID 3ddaa2-3 | JobID M000 - Starting function invocation: partition_file() - Total: 1 activations\n",
      "2021-11-03 17:21:16,582 [INFO] lithops.invokers -- ExecutorID 3ddaa2-3 | JobID M000 - View execution logs at C:\\Users\\Ammar\\AppData\\Local\\Temp\\lithops\\logs\\3ddaa2-3-M000.log\n",
      "2021-11-03 17:21:16,582 [INFO] lithops.executors -- ExecutorID 3ddaa2-3 - Getting results\n"
     ]
    },
    {
     "data": {
      "application/vnd.jupyter.widget-view+json": {
       "model_id": "e6a001d0a5cb4386bbec38f44ed9d74d",
       "version_major": 2,
       "version_minor": 0
      },
      "text/plain": [
       "    0%|          | 0/1  "
      ]
     },
     "metadata": {},
     "output_type": "display_data"
    },
    {
     "name": "stderr",
     "output_type": "stream",
     "text": [
      "2021-11-03 17:23:35,906 [INFO] lithops.executors -- ExecutorID 3ddaa2-3 - Cleaning temporary data\n",
      "2021-11-03 17:23:36,062 [INFO] lithops.config -- Lithops v2.3.1\n",
      "2021-11-03 17:23:36,082 [INFO] lithops.storage.backends.ibm_cos.ibm_cos -- IBM COS Storage client created - Region: us-east\n",
      "2021-11-03 17:23:36,082 [INFO] lithops.serverless.backends.ibm_cf.ibm_cf -- IBM CF client created - Region: us-east - Namespace: fadi.hassan@urv.cat_fadi\n",
      "2021-11-03 17:23:36,086 [INFO] lithops.executors -- Serverless Executor created with ID: 3ddaa2-4\n",
      "2021-11-03 17:23:36,086 [INFO] lithops.invokers -- ExecutorID 3ddaa2-4 | JobID M000 - Selected Runtime: ammarokran/new-smrf-conda36:1.0.6 - 1024MB \n"
     ]
    },
    {
     "name": "stdout",
     "output_type": "stream",
     "text": [
      "Total partition time: 140.57521748542786 s\n"
     ]
    },
    {
     "name": "stderr",
     "output_type": "stream",
     "text": [
      "2021-11-03 17:23:36,122 [INFO] lithops.job.job -- ExecutorID 3ddaa2-4 | JobID M000 - Uploading function and data - Total: 50.4KiB\n",
      "2021-11-03 17:23:37,510 [INFO] lithops.invokers -- ExecutorID 3ddaa2-4 | JobID M000 - Starting function invocation: outlier_filter() - Total: 4 activations\n",
      "2021-11-03 17:23:37,630 [INFO] lithops.invokers -- ExecutorID 3ddaa2-4 | JobID M000 - View execution logs at C:\\Users\\Ammar\\AppData\\Local\\Temp\\lithops\\logs\\3ddaa2-4-M000.log\n",
      "2021-11-03 17:23:37,634 [INFO] lithops.invokers -- ExecutorID 3ddaa2-4 | JobID R000 - Selected Runtime: ammarokran/new-smrf-conda36:1.0.6 - 4096MB \n",
      "2021-11-03 17:23:37,674 [INFO] lithops.job.job -- ExecutorID 3ddaa2-4 | JobID R000 - Uploading function and data - Total: 50.6KiB\n",
      "2021-11-03 17:23:38,232 [INFO] lithops.invokers -- ExecutorID 3ddaa2-4 | JobID R000 - Starting function invocation: merg_res() - Total: 1 activations\n",
      "2021-11-03 17:23:38,345 [INFO] lithops.invokers -- ExecutorID 3ddaa2-4 | JobID R000 - View execution logs at C:\\Users\\Ammar\\AppData\\Local\\Temp\\lithops\\logs\\3ddaa2-4-R000.log\n",
      "2021-11-03 17:23:38,345 [INFO] lithops.executors -- ExecutorID 3ddaa2-4 - Getting results\n"
     ]
    },
    {
     "data": {
      "application/vnd.jupyter.widget-view+json": {
       "model_id": "ecb5164eda5348ff874e099f543a968b",
       "version_major": 2,
       "version_minor": 0
      },
      "text/plain": [
       "    0%|          | 0/5  "
      ]
     },
     "metadata": {},
     "output_type": "display_data"
    },
    {
     "name": "stderr",
     "output_type": "stream",
     "text": [
      "2021-11-03 17:24:39,720 [INFO] lithops.executors -- ExecutorID 3ddaa2-4 - Cleaning temporary data\n"
     ]
    },
    {
     "name": "stdout",
     "output_type": "stream",
     "text": [
      "Total processing time: 63.82280254364014 s\n"
     ]
    },
    {
     "name": "stderr",
     "output_type": "stream",
     "text": [
      "2021-11-03 17:24:43,229 [INFO] lithops.config -- Lithops v2.3.1\n",
      "2021-11-03 17:24:43,247 [INFO] lithops.storage.backends.ibm_cos.ibm_cos -- IBM COS Storage client created - Region: us-east\n",
      "2021-11-03 17:24:43,251 [INFO] lithops.serverless.backends.ibm_cf.ibm_cf -- IBM CF client created - Region: us-east - Namespace: fadi.hassan@urv.cat_fadi\n",
      "2021-11-03 17:24:43,251 [INFO] lithops.executors -- Serverless Executor created with ID: 3ddaa2-5\n",
      "2021-11-03 17:24:43,251 [INFO] lithops.invokers -- ExecutorID 3ddaa2-5 | JobID M000 - Selected Runtime: ammarokran/part-lidar:1.0 - 3072MB \n",
      "2021-11-03 17:24:43,275 [INFO] lithops.job.job -- ExecutorID 3ddaa2-5 | JobID M000 - Uploading function and data - Total: 48.0KiB\n",
      "2021-11-03 17:24:44,528 [INFO] lithops.invokers -- ExecutorID 3ddaa2-5 | JobID M000 - Starting function invocation: partition_file() - Total: 1 activations\n",
      "2021-11-03 17:24:44,632 [INFO] lithops.invokers -- ExecutorID 3ddaa2-5 | JobID M000 - View execution logs at C:\\Users\\Ammar\\AppData\\Local\\Temp\\lithops\\logs\\3ddaa2-5-M000.log\n",
      "2021-11-03 17:24:44,632 [INFO] lithops.executors -- ExecutorID 3ddaa2-5 - Getting results\n"
     ]
    },
    {
     "data": {
      "application/vnd.jupyter.widget-view+json": {
       "model_id": "f5fba66392f24cce8e577a575a0c9493",
       "version_major": 2,
       "version_minor": 0
      },
      "text/plain": [
       "    0%|          | 0/1  "
      ]
     },
     "metadata": {},
     "output_type": "display_data"
    },
    {
     "name": "stderr",
     "output_type": "stream",
     "text": [
      "2021-11-03 17:27:10,671 [INFO] lithops.executors -- ExecutorID 3ddaa2-5 - Cleaning temporary data\n",
      "2021-11-03 17:27:10,821 [INFO] lithops.config -- Lithops v2.3.1\n"
     ]
    },
    {
     "name": "stdout",
     "output_type": "stream",
     "text": [
      "Total partition time: 147.45208525657654 s\n"
     ]
    },
    {
     "name": "stderr",
     "output_type": "stream",
     "text": [
      "2021-11-03 17:27:10,980 [INFO] lithops.storage.backends.ibm_cos.ibm_cos -- IBM COS Storage client created - Region: us-east\n",
      "2021-11-03 17:27:10,991 [INFO] lithops.serverless.backends.ibm_cf.ibm_cf -- IBM CF client created - Region: us-east - Namespace: fadi.hassan@urv.cat_fadi\n",
      "2021-11-03 17:27:10,991 [INFO] lithops.executors -- Serverless Executor created with ID: 3ddaa2-6\n",
      "2021-11-03 17:27:10,991 [INFO] lithops.invokers -- ExecutorID 3ddaa2-6 | JobID M000 - Selected Runtime: ammarokran/new-smrf-conda36:1.0.6 - 1024MB \n",
      "2021-11-03 17:27:11,041 [INFO] lithops.job.job -- ExecutorID 3ddaa2-6 | JobID M000 - Uploading function and data - Total: 51.1KiB\n",
      "2021-11-03 17:27:12,330 [INFO] lithops.invokers -- ExecutorID 3ddaa2-6 | JobID M000 - Starting function invocation: outlier_filter() - Total: 8 activations\n",
      "2021-11-03 17:27:12,441 [INFO] lithops.invokers -- ExecutorID 3ddaa2-6 | JobID M000 - View execution logs at C:\\Users\\Ammar\\AppData\\Local\\Temp\\lithops\\logs\\3ddaa2-6-M000.log\n",
      "2021-11-03 17:27:12,441 [INFO] lithops.invokers -- ExecutorID 3ddaa2-6 | JobID R000 - Selected Runtime: ammarokran/new-smrf-conda36:1.0.6 - 4096MB \n",
      "2021-11-03 17:27:13,301 [INFO] lithops.job.job -- ExecutorID 3ddaa2-6 | JobID R000 - Uploading function and data - Total: 51.3KiB\n",
      "2021-11-03 17:27:13,845 [INFO] lithops.invokers -- ExecutorID 3ddaa2-6 | JobID R000 - Starting function invocation: merg_res() - Total: 1 activations\n",
      "2021-11-03 17:27:13,961 [INFO] lithops.invokers -- ExecutorID 3ddaa2-6 | JobID R000 - View execution logs at C:\\Users\\Ammar\\AppData\\Local\\Temp\\lithops\\logs\\3ddaa2-6-R000.log\n",
      "2021-11-03 17:27:13,966 [INFO] lithops.executors -- ExecutorID 3ddaa2-6 - Getting results\n"
     ]
    },
    {
     "data": {
      "application/vnd.jupyter.widget-view+json": {
       "model_id": "b12e054d3b904a1ab4fb90c314c34226",
       "version_major": 2,
       "version_minor": 0
      },
      "text/plain": [
       "    0%|          | 0/9  "
      ]
     },
     "metadata": {},
     "output_type": "display_data"
    },
    {
     "name": "stderr",
     "output_type": "stream",
     "text": [
      "2021-11-03 17:27:51,662 [INFO] lithops.executors -- ExecutorID 3ddaa2-6 - Cleaning temporary data\n"
     ]
    },
    {
     "name": "stdout",
     "output_type": "stream",
     "text": [
      "Total processing time: 40.994194984436035 s\n"
     ]
    },
    {
     "name": "stderr",
     "output_type": "stream",
     "text": [
      "2021-11-03 17:27:58,012 [INFO] lithops.config -- Lithops v2.3.1\n",
      "2021-11-03 17:27:58,056 [INFO] lithops.storage.backends.ibm_cos.ibm_cos -- IBM COS Storage client created - Region: us-east\n",
      "2021-11-03 17:27:58,060 [INFO] lithops.serverless.backends.ibm_cf.ibm_cf -- IBM CF client created - Region: us-east - Namespace: fadi.hassan@urv.cat_fadi\n",
      "2021-11-03 17:27:58,060 [INFO] lithops.executors -- Serverless Executor created with ID: 3ddaa2-7\n",
      "2021-11-03 17:27:58,060 [INFO] lithops.invokers -- ExecutorID 3ddaa2-7 | JobID M000 - Selected Runtime: ammarokran/part-lidar:1.0 - 3072MB \n",
      "2021-11-03 17:27:58,096 [INFO] lithops.job.job -- ExecutorID 3ddaa2-7 | JobID M000 - Uploading function and data - Total: 48.0KiB\n",
      "2021-11-03 17:27:59,269 [INFO] lithops.invokers -- ExecutorID 3ddaa2-7 | JobID M000 - Starting function invocation: partition_file() - Total: 1 activations\n",
      "2021-11-03 17:27:59,377 [INFO] lithops.invokers -- ExecutorID 3ddaa2-7 | JobID M000 - View execution logs at C:\\Users\\Ammar\\AppData\\Local\\Temp\\lithops\\logs\\3ddaa2-7-M000.log\n",
      "2021-11-03 17:27:59,377 [INFO] lithops.executors -- ExecutorID 3ddaa2-7 - Getting results\n"
     ]
    },
    {
     "data": {
      "application/vnd.jupyter.widget-view+json": {
       "model_id": "0960f52eaca148f9855970500b4bd99b",
       "version_major": 2,
       "version_minor": 0
      },
      "text/plain": [
       "    0%|          | 0/1  "
      ]
     },
     "metadata": {},
     "output_type": "display_data"
    },
    {
     "name": "stderr",
     "output_type": "stream",
     "text": [
      "2021-11-03 17:30:19,899 [INFO] lithops.executors -- ExecutorID 3ddaa2-7 - Cleaning temporary data\n",
      "2021-11-03 17:30:20,076 [INFO] lithops.config -- Lithops v2.3.1\n",
      "2021-11-03 17:30:20,099 [INFO] lithops.storage.backends.ibm_cos.ibm_cos -- IBM COS Storage client created - Region: us-east\n"
     ]
    },
    {
     "name": "stdout",
     "output_type": "stream",
     "text": [
      "Total partition time: 141.89501237869263 s\n"
     ]
    },
    {
     "name": "stderr",
     "output_type": "stream",
     "text": [
      "2021-11-03 17:30:20,099 [INFO] lithops.serverless.backends.ibm_cf.ibm_cf -- IBM CF client created - Region: us-east - Namespace: fadi.hassan@urv.cat_fadi\n",
      "2021-11-03 17:30:20,103 [INFO] lithops.executors -- Serverless Executor created with ID: 3ddaa2-8\n",
      "2021-11-03 17:30:20,103 [INFO] lithops.invokers -- ExecutorID 3ddaa2-8 | JobID M000 - Selected Runtime: ammarokran/new-smrf-conda36:1.0.6 - 1024MB \n",
      "2021-11-03 17:30:20,147 [INFO] lithops.job.job -- ExecutorID 3ddaa2-8 | JobID M000 - Uploading function and data - Total: 52.4KiB\n",
      "2021-11-03 17:30:21,400 [INFO] lithops.invokers -- ExecutorID 3ddaa2-8 | JobID M000 - Starting function invocation: outlier_filter() - Total: 16 activations\n",
      "2021-11-03 17:30:21,525 [INFO] lithops.invokers -- ExecutorID 3ddaa2-8 | JobID M000 - View execution logs at C:\\Users\\Ammar\\AppData\\Local\\Temp\\lithops\\logs\\3ddaa2-8-M000.log\n",
      "2021-11-03 17:30:21,525 [INFO] lithops.invokers -- ExecutorID 3ddaa2-8 | JobID R000 - Selected Runtime: ammarokran/new-smrf-conda36:1.0.6 - 4096MB \n",
      "2021-11-03 17:30:21,577 [INFO] lithops.job.job -- ExecutorID 3ddaa2-8 | JobID R000 - Uploading function and data - Total: 52.8KiB\n",
      "2021-11-03 17:30:22,111 [INFO] lithops.invokers -- ExecutorID 3ddaa2-8 | JobID R000 - Starting function invocation: merg_res() - Total: 1 activations\n",
      "2021-11-03 17:30:22,215 [INFO] lithops.invokers -- ExecutorID 3ddaa2-8 | JobID R000 - View execution logs at C:\\Users\\Ammar\\AppData\\Local\\Temp\\lithops\\logs\\3ddaa2-8-R000.log\n",
      "2021-11-03 17:30:22,219 [INFO] lithops.executors -- ExecutorID 3ddaa2-8 - Getting results\n"
     ]
    },
    {
     "data": {
      "application/vnd.jupyter.widget-view+json": {
       "model_id": "e2951cfabc8842da8810015afb993bc1",
       "version_major": 2,
       "version_minor": 0
      },
      "text/plain": [
       "    0%|          | 0/17  "
      ]
     },
     "metadata": {},
     "output_type": "display_data"
    },
    {
     "name": "stderr",
     "output_type": "stream",
     "text": [
      "2021-11-03 17:31:13,225 [INFO] lithops.executors -- ExecutorID 3ddaa2-8 - Cleaning temporary data\n"
     ]
    },
    {
     "name": "stdout",
     "output_type": "stream",
     "text": [
      "Total processing time: 53.325756549835205 s\n"
     ]
    },
    {
     "name": "stderr",
     "output_type": "stream",
     "text": [
      "2021-11-03 17:31:24,097 [INFO] lithops.config -- Lithops v2.3.1\n",
      "2021-11-03 17:31:24,129 [INFO] lithops.storage.backends.ibm_cos.ibm_cos -- IBM COS Storage client created - Region: us-east\n",
      "2021-11-03 17:31:24,129 [INFO] lithops.serverless.backends.ibm_cf.ibm_cf -- IBM CF client created - Region: us-east - Namespace: fadi.hassan@urv.cat_fadi\n",
      "2021-11-03 17:31:24,133 [INFO] lithops.executors -- Serverless Executor created with ID: 3ddaa2-9\n",
      "2021-11-03 17:31:24,133 [INFO] lithops.invokers -- ExecutorID 3ddaa2-9 | JobID M000 - Selected Runtime: ammarokran/part-lidar:1.0 - 3072MB \n",
      "2021-11-03 17:31:24,167 [INFO] lithops.job.job -- ExecutorID 3ddaa2-9 | JobID M000 - Uploading function and data - Total: 48.0KiB\n",
      "2021-11-03 17:31:25,398 [INFO] lithops.invokers -- ExecutorID 3ddaa2-9 | JobID M000 - Starting function invocation: partition_file() - Total: 1 activations\n",
      "2021-11-03 17:31:25,509 [INFO] lithops.invokers -- ExecutorID 3ddaa2-9 | JobID M000 - View execution logs at C:\\Users\\Ammar\\AppData\\Local\\Temp\\lithops\\logs\\3ddaa2-9-M000.log\n",
      "2021-11-03 17:31:25,509 [INFO] lithops.executors -- ExecutorID 3ddaa2-9 - Getting results\n"
     ]
    },
    {
     "data": {
      "application/vnd.jupyter.widget-view+json": {
       "model_id": "53be3a711e4b42699c2a813a791c7bb1",
       "version_major": 2,
       "version_minor": 0
      },
      "text/plain": [
       "    0%|          | 0/1  "
      ]
     },
     "metadata": {},
     "output_type": "display_data"
    },
    {
     "name": "stderr",
     "output_type": "stream",
     "text": [
      "2021-11-03 17:33:50,890 [INFO] lithops.executors -- ExecutorID 3ddaa2-9 - Cleaning temporary data\n"
     ]
    },
    {
     "name": "stdout",
     "output_type": "stream",
     "text": [
      "Total partition time: 146.81345105171204 s\n"
     ]
    },
    {
     "name": "stderr",
     "output_type": "stream",
     "text": [
      "2021-11-03 17:33:51,058 [INFO] lithops.config -- Lithops v2.3.1\n",
      "2021-11-03 17:33:51,192 [INFO] lithops.storage.backends.ibm_cos.ibm_cos -- IBM COS Storage client created - Region: us-east\n",
      "2021-11-03 17:33:51,192 [INFO] lithops.serverless.backends.ibm_cf.ibm_cf -- IBM CF client created - Region: us-east - Namespace: fadi.hassan@urv.cat_fadi\n",
      "2021-11-03 17:33:51,196 [INFO] lithops.executors -- Serverless Executor created with ID: 3ddaa2-10\n",
      "2021-11-03 17:33:51,196 [INFO] lithops.invokers -- ExecutorID 3ddaa2-10 | JobID M000 - Selected Runtime: ammarokran/new-smrf-conda36:1.0.6 - 512MB \n",
      "2021-11-03 17:33:51,519 [INFO] lithops.job.job -- ExecutorID 3ddaa2-10 | JobID M000 - Uploading function and data - Total: 55.0KiB\n",
      "2021-11-03 17:33:52,755 [INFO] lithops.invokers -- ExecutorID 3ddaa2-10 | JobID M000 - Starting function invocation: outlier_filter() - Total: 32 activations\n",
      "2021-11-03 17:33:53,064 [INFO] lithops.invokers -- ExecutorID 3ddaa2-10 | JobID M000 - View execution logs at C:\\Users\\Ammar\\AppData\\Local\\Temp\\lithops\\logs\\3ddaa2-10-M000.log\n",
      "2021-11-03 17:33:53,071 [INFO] lithops.invokers -- ExecutorID 3ddaa2-10 | JobID R000 - Selected Runtime: ammarokran/new-smrf-conda36:1.0.6 - 4096MB \n",
      "2021-11-03 17:33:54,962 [INFO] lithops.job.job -- ExecutorID 3ddaa2-10 | JobID R000 - Uploading function and data - Total: 55.7KiB\n",
      "2021-11-03 17:33:56,154 [INFO] lithops.invokers -- ExecutorID 3ddaa2-10 | JobID R000 - Starting function invocation: merg_res() - Total: 1 activations\n",
      "2021-11-03 17:33:56,265 [INFO] lithops.invokers -- ExecutorID 3ddaa2-10 | JobID R000 - View execution logs at C:\\Users\\Ammar\\AppData\\Local\\Temp\\lithops\\logs\\3ddaa2-10-R000.log\n",
      "2021-11-03 17:33:56,265 [INFO] lithops.executors -- ExecutorID 3ddaa2-10 - Getting results\n"
     ]
    },
    {
     "data": {
      "application/vnd.jupyter.widget-view+json": {
       "model_id": "c53862f055a040d6937ffd309e3906db",
       "version_major": 2,
       "version_minor": 0
      },
      "text/plain": [
       "    0%|          | 0/33  "
      ]
     },
     "metadata": {},
     "output_type": "display_data"
    },
    {
     "name": "stderr",
     "output_type": "stream",
     "text": [
      "2021-11-03 17:34:51,699 [INFO] lithops.executors -- ExecutorID 3ddaa2-10 - Cleaning temporary data\n"
     ]
    },
    {
     "name": "stdout",
     "output_type": "stream",
     "text": [
      "Total processing time: 60.80016088485718 s\n"
     ]
    },
    {
     "name": "stderr",
     "output_type": "stream",
     "text": [
      "2021-11-03 17:35:12,092 [INFO] lithops.config -- Lithops v2.3.1\n",
      "2021-11-03 17:35:12,117 [INFO] lithops.storage.backends.ibm_cos.ibm_cos -- IBM COS Storage client created - Region: us-east\n",
      "2021-11-03 17:35:12,119 [INFO] lithops.serverless.backends.ibm_cf.ibm_cf -- IBM CF client created - Region: us-east - Namespace: fadi.hassan@urv.cat_fadi\n",
      "2021-11-03 17:35:12,120 [INFO] lithops.executors -- Serverless Executor created with ID: 3ddaa2-11\n",
      "2021-11-03 17:35:12,121 [INFO] lithops.invokers -- ExecutorID 3ddaa2-11 | JobID M000 - Selected Runtime: ammarokran/part-lidar:1.0 - 3072MB \n",
      "2021-11-03 17:35:12,152 [INFO] lithops.job.job -- ExecutorID 3ddaa2-11 | JobID M000 - Uploading function and data - Total: 48.0KiB\n",
      "2021-11-03 17:35:13,321 [INFO] lithops.invokers -- ExecutorID 3ddaa2-11 | JobID M000 - Starting function invocation: partition_file() - Total: 1 activations\n",
      "2021-11-03 17:35:13,438 [INFO] lithops.invokers -- ExecutorID 3ddaa2-11 | JobID M000 - View execution logs at C:\\Users\\Ammar\\AppData\\Local\\Temp\\lithops\\logs\\3ddaa2-11-M000.log\n",
      "2021-11-03 17:35:13,442 [INFO] lithops.executors -- ExecutorID 3ddaa2-11 - Getting results\n"
     ]
    },
    {
     "data": {
      "application/vnd.jupyter.widget-view+json": {
       "model_id": "f164bd89fd47401aac67b852dceff160",
       "version_major": 2,
       "version_minor": 0
      },
      "text/plain": [
       "    0%|          | 0/1  "
      ]
     },
     "metadata": {},
     "output_type": "display_data"
    },
    {
     "name": "stderr",
     "output_type": "stream",
     "text": [
      "2021-11-03 17:37:49,065 [INFO] lithops.executors -- ExecutorID 3ddaa2-11 - Cleaning temporary data\n"
     ]
    },
    {
     "name": "stdout",
     "output_type": "stream",
     "text": [
      "Total partition time: 156.98244786262512 s\n"
     ]
    },
    {
     "name": "stderr",
     "output_type": "stream",
     "text": [
      "2021-11-03 17:37:49,337 [INFO] lithops.config -- Lithops v2.3.1\n",
      "2021-11-03 17:37:49,550 [INFO] lithops.storage.backends.ibm_cos.ibm_cos -- IBM COS Storage client created - Region: us-east\n",
      "2021-11-03 17:37:49,550 [INFO] lithops.serverless.backends.ibm_cf.ibm_cf -- IBM CF client created - Region: us-east - Namespace: fadi.hassan@urv.cat_fadi\n",
      "2021-11-03 17:37:49,554 [INFO] lithops.executors -- Serverless Executor created with ID: 3ddaa2-12\n",
      "2021-11-03 17:37:49,554 [INFO] lithops.invokers -- ExecutorID 3ddaa2-12 | JobID M000 - Selected Runtime: ammarokran/new-smrf-conda36:1.0.6 - 512MB \n",
      "2021-11-03 17:37:49,598 [INFO] lithops.job.job -- ExecutorID 3ddaa2-12 | JobID M000 - Uploading function and data - Total: 60.3KiB\n",
      "2021-11-03 17:37:50,856 [INFO] lithops.invokers -- ExecutorID 3ddaa2-12 | JobID M000 - Starting function invocation: outlier_filter() - Total: 64 activations\n",
      "2021-11-03 17:37:51,002 [INFO] lithops.invokers -- ExecutorID 3ddaa2-12 | JobID M000 - View execution logs at C:\\Users\\Ammar\\AppData\\Local\\Temp\\lithops\\logs\\3ddaa2-12-M000.log\n",
      "2021-11-03 17:37:51,006 [INFO] lithops.invokers -- ExecutorID 3ddaa2-12 | JobID R000 - Selected Runtime: ammarokran/new-smrf-conda36:1.0.6 - 4096MB \n",
      "2021-11-03 17:37:51,058 [INFO] lithops.job.job -- ExecutorID 3ddaa2-12 | JobID R000 - Uploading function and data - Total: 61.5KiB\n",
      "2021-11-03 17:37:51,605 [INFO] lithops.invokers -- ExecutorID 3ddaa2-12 | JobID R000 - Starting function invocation: merg_res() - Total: 1 activations\n",
      "2021-11-03 17:37:51,713 [INFO] lithops.invokers -- ExecutorID 3ddaa2-12 | JobID R000 - View execution logs at C:\\Users\\Ammar\\AppData\\Local\\Temp\\lithops\\logs\\3ddaa2-12-R000.log\n",
      "2021-11-03 17:37:51,713 [INFO] lithops.executors -- ExecutorID 3ddaa2-12 - Getting results\n"
     ]
    },
    {
     "data": {
      "application/vnd.jupyter.widget-view+json": {
       "model_id": "d3d8fd4f6da94f0e996058a1d0a63f6b",
       "version_major": 2,
       "version_minor": 0
      },
      "text/plain": [
       "    0%|          | 0/65  "
      ]
     },
     "metadata": {},
     "output_type": "display_data"
    },
    {
     "name": "stderr",
     "output_type": "stream",
     "text": [
      "2021-11-03 17:38:40,169 [INFO] lithops.executors -- ExecutorID 3ddaa2-12 - Cleaning temporary data\n"
     ]
    },
    {
     "name": "stdout",
     "output_type": "stream",
     "text": [
      "Total processing time: 51.10786986351013 s\n"
     ]
    },
    {
     "name": "stderr",
     "output_type": "stream",
     "text": [
      "2021-11-03 17:39:19,562 [INFO] lithops.config -- Lithops v2.3.1\n",
      "2021-11-03 17:39:19,586 [INFO] lithops.storage.backends.ibm_cos.ibm_cos -- IBM COS Storage client created - Region: us-east\n",
      "2021-11-03 17:39:19,590 [INFO] lithops.serverless.backends.ibm_cf.ibm_cf -- IBM CF client created - Region: us-east - Namespace: fadi.hassan@urv.cat_fadi\n",
      "2021-11-03 17:39:19,590 [INFO] lithops.executors -- Serverless Executor created with ID: 3ddaa2-13\n",
      "2021-11-03 17:39:19,590 [INFO] lithops.invokers -- ExecutorID 3ddaa2-13 | JobID M000 - Selected Runtime: ammarokran/part-lidar:1.0 - 3072MB \n",
      "2021-11-03 17:39:19,625 [INFO] lithops.job.job -- ExecutorID 3ddaa2-13 | JobID M000 - Uploading function and data - Total: 48.0KiB\n",
      "2021-11-03 17:39:20,678 [INFO] lithops.invokers -- ExecutorID 3ddaa2-13 | JobID M000 - Starting function invocation: partition_file() - Total: 1 activations\n",
      "2021-11-03 17:39:20,794 [INFO] lithops.invokers -- ExecutorID 3ddaa2-13 | JobID M000 - View execution logs at C:\\Users\\Ammar\\AppData\\Local\\Temp\\lithops\\logs\\3ddaa2-13-M000.log\n",
      "2021-11-03 17:39:20,794 [INFO] lithops.executors -- ExecutorID 3ddaa2-13 - Getting results\n"
     ]
    },
    {
     "data": {
      "application/vnd.jupyter.widget-view+json": {
       "model_id": "ee1635b2e066494685d5cf52270a9796",
       "version_major": 2,
       "version_minor": 0
      },
      "text/plain": [
       "    0%|          | 0/1  "
      ]
     },
     "metadata": {},
     "output_type": "display_data"
    },
    {
     "name": "stderr",
     "output_type": "stream",
     "text": [
      "2021-11-03 17:42:18,992 [INFO] lithops.executors -- ExecutorID 3ddaa2-13 - Cleaning temporary data\n"
     ]
    },
    {
     "name": "stdout",
     "output_type": "stream",
     "text": [
      "Total partition time: 179.44585824012756 s\n"
     ]
    },
    {
     "name": "stderr",
     "output_type": "stream",
     "text": [
      "2021-11-03 17:42:19,365 [INFO] lithops.config -- Lithops v2.3.1\n",
      "2021-11-03 17:42:19,453 [INFO] lithops.storage.backends.ibm_cos.ibm_cos -- IBM COS Storage client created - Region: us-east\n",
      "2021-11-03 17:42:19,453 [INFO] lithops.serverless.backends.ibm_cf.ibm_cf -- IBM CF client created - Region: us-east - Namespace: fadi.hassan@urv.cat_fadi\n",
      "2021-11-03 17:42:19,457 [INFO] lithops.executors -- Serverless Executor created with ID: 3ddaa2-14\n",
      "2021-11-03 17:42:19,457 [INFO] lithops.invokers -- ExecutorID 3ddaa2-14 | JobID M000 - Selected Runtime: ammarokran/new-smrf-conda36:1.0.6 - 512MB \n",
      "2021-11-03 17:42:19,525 [INFO] lithops.job.job -- ExecutorID 3ddaa2-14 | JobID M000 - Uploading function and data - Total: 70.8KiB\n",
      "2021-11-03 17:42:20,849 [INFO] lithops.invokers -- ExecutorID 3ddaa2-14 | JobID M000 - Starting function invocation: outlier_filter() - Total: 128 activations\n",
      "2021-11-03 17:42:21,101 [INFO] lithops.invokers -- ExecutorID 3ddaa2-14 | JobID M000 - View execution logs at C:\\Users\\Ammar\\AppData\\Local\\Temp\\lithops\\logs\\3ddaa2-14-M000.log\n",
      "2021-11-03 17:42:21,117 [INFO] lithops.invokers -- ExecutorID 3ddaa2-14 | JobID R000 - Selected Runtime: ammarokran/new-smrf-conda36:1.0.6 - 4096MB \n",
      "2021-11-03 17:42:21,276 [INFO] lithops.job.job -- ExecutorID 3ddaa2-14 | JobID R000 - Uploading function and data - Total: 73.2KiB\n",
      "2021-11-03 17:42:21,965 [INFO] lithops.invokers -- ExecutorID 3ddaa2-14 | JobID R000 - Starting function invocation: merg_res() - Total: 1 activations\n",
      "2021-11-03 17:42:22,080 [INFO] lithops.invokers -- ExecutorID 3ddaa2-14 | JobID R000 - View execution logs at C:\\Users\\Ammar\\AppData\\Local\\Temp\\lithops\\logs\\3ddaa2-14-R000.log\n",
      "2021-11-03 17:42:22,080 [INFO] lithops.executors -- ExecutorID 3ddaa2-14 - Getting results\n"
     ]
    },
    {
     "data": {
      "application/vnd.jupyter.widget-view+json": {
       "model_id": "08991e2d20854070af1450478be85f8d",
       "version_major": 2,
       "version_minor": 0
      },
      "text/plain": [
       "    0%|          | 0/129  "
      ]
     },
     "metadata": {},
     "output_type": "display_data"
    },
    {
     "name": "stderr",
     "output_type": "stream",
     "text": [
      "2021-11-03 17:43:15,325 [INFO] lithops.executors -- ExecutorID 3ddaa2-14 - Cleaning temporary data\n"
     ]
    },
    {
     "name": "stdout",
     "output_type": "stream",
     "text": [
      "Total processing time: 56.33068108558655 s\n"
     ]
    },
    {
     "name": "stderr",
     "output_type": "stream",
     "text": [
      "2021-11-03 17:44:34,207 [INFO] lithops.config -- Lithops v2.3.1\n",
      "2021-11-03 17:44:34,263 [INFO] lithops.storage.backends.ibm_cos.ibm_cos -- IBM COS Storage client created - Region: us-east\n",
      "2021-11-03 17:44:34,263 [INFO] lithops.serverless.backends.ibm_cf.ibm_cf -- IBM CF client created - Region: us-east - Namespace: fadi.hassan@urv.cat_fadi\n",
      "2021-11-03 17:44:34,263 [INFO] lithops.executors -- Serverless Executor created with ID: 3ddaa2-15\n",
      "2021-11-03 17:44:34,267 [INFO] lithops.invokers -- ExecutorID 3ddaa2-15 | JobID M000 - Selected Runtime: ammarokran/part-lidar:1.0 - 3072MB \n",
      "2021-11-03 17:44:36,291 [INFO] lithops.job.job -- ExecutorID 3ddaa2-15 | JobID M000 - Uploading function and data - Total: 48.0KiB\n",
      "2021-11-03 17:44:37,513 [INFO] lithops.invokers -- ExecutorID 3ddaa2-15 | JobID M000 - Starting function invocation: partition_file() - Total: 1 activations\n",
      "2021-11-03 17:44:37,621 [INFO] lithops.invokers -- ExecutorID 3ddaa2-15 | JobID M000 - View execution logs at C:\\Users\\Ammar\\AppData\\Local\\Temp\\lithops\\logs\\3ddaa2-15-M000.log\n",
      "2021-11-03 17:44:37,621 [INFO] lithops.executors -- ExecutorID 3ddaa2-15 - Getting results\n"
     ]
    },
    {
     "data": {
      "application/vnd.jupyter.widget-view+json": {
       "model_id": "f96784c0c5914d15be2b1fb32bb8271e",
       "version_major": 2,
       "version_minor": 0
      },
      "text/plain": [
       "    0%|          | 0/1  "
      ]
     },
     "metadata": {},
     "output_type": "display_data"
    },
    {
     "name": "stderr",
     "output_type": "stream",
     "text": [
      "2021-11-03 17:48:37,479 [INFO] lithops.executors -- ExecutorID 3ddaa2-15 - Cleaning temporary data\n"
     ]
    },
    {
     "name": "stdout",
     "output_type": "stream",
     "text": [
      "Total partition time: 243.2854609489441 s\n"
     ]
    },
    {
     "name": "stderr",
     "output_type": "stream",
     "text": [
      "2021-11-03 17:48:37,729 [INFO] lithops.config -- Lithops v2.3.1\n",
      "2021-11-03 17:48:37,757 [INFO] lithops.storage.backends.ibm_cos.ibm_cos -- IBM COS Storage client created - Region: us-east\n",
      "2021-11-03 17:48:37,758 [INFO] lithops.serverless.backends.ibm_cf.ibm_cf -- IBM CF client created - Region: us-east - Namespace: fadi.hassan@urv.cat_fadi\n",
      "2021-11-03 17:48:37,759 [INFO] lithops.executors -- Serverless Executor created with ID: 3ddaa2-16\n",
      "2021-11-03 17:48:37,760 [INFO] lithops.invokers -- ExecutorID 3ddaa2-16 | JobID M000 - Selected Runtime: ammarokran/new-smrf-conda36:1.0.6 - 512MB \n",
      "2021-11-03 17:48:38,015 [INFO] lithops.job.job -- ExecutorID 3ddaa2-16 | JobID M000 - Uploading function and data - Total: 91.8KiB\n",
      "2021-11-03 17:48:39,198 [INFO] lithops.invokers -- ExecutorID 3ddaa2-16 | JobID M000 - Starting function invocation: outlier_filter() - Total: 256 activations\n",
      "2021-11-03 17:48:39,677 [INFO] lithops.invokers -- ExecutorID 3ddaa2-16 | JobID M000 - View execution logs at C:\\Users\\Ammar\\AppData\\Local\\Temp\\lithops\\logs\\3ddaa2-16-M000.log\n",
      "2021-11-03 17:48:39,685 [INFO] lithops.invokers -- ExecutorID 3ddaa2-16 | JobID R000 - Selected Runtime: ammarokran/new-smrf-conda36:1.0.6 - 4096MB \n",
      "2021-11-03 17:48:39,808 [INFO] lithops.job.job -- ExecutorID 3ddaa2-16 | JobID R000 - Uploading function and data - Total: 96.6KiB\n",
      "2021-11-03 17:48:40,701 [INFO] lithops.invokers -- ExecutorID 3ddaa2-16 | JobID R000 - Starting function invocation: merg_res() - Total: 1 activations\n",
      "2021-11-03 17:48:40,827 [INFO] lithops.invokers -- ExecutorID 3ddaa2-16 | JobID R000 - View execution logs at C:\\Users\\Ammar\\AppData\\Local\\Temp\\lithops\\logs\\3ddaa2-16-R000.log\n",
      "2021-11-03 17:48:40,828 [INFO] lithops.executors -- ExecutorID 3ddaa2-16 - Getting results\n"
     ]
    },
    {
     "data": {
      "application/vnd.jupyter.widget-view+json": {
       "model_id": "6b983bde9bbe4053b90b727d1a2f6caa",
       "version_major": 2,
       "version_minor": 0
      },
      "text/plain": [
       "    0%|          | 0/257  "
      ]
     },
     "metadata": {},
     "output_type": "display_data"
    },
    {
     "name": "stderr",
     "output_type": "stream",
     "text": [
      "2021-11-03 17:49:30,366 [INFO] lithops.executors -- ExecutorID 3ddaa2-16 - Cleaning temporary data\n"
     ]
    },
    {
     "name": "stdout",
     "output_type": "stream",
     "text": [
      "Total processing time: 52.88604402542114 s\n",
      "Wall time: 37min 59s\n"
     ]
    }
   ],
   "source": [
    "%%time\n",
    "processing_time = []\n",
    "data_folder = 'data'\n",
    "chip_folder = 'chipres'\n",
    "res_map_folder = 'removed_outliers'\n",
    "res_red_folder = 'merged_files'\n",
    "fname = data_folder + '/' + \"Coloreado (RGB) 2016 - PNOA-2016-CAT-352-4556-ORT-CLA-COL.las\"\n",
    "#\"Coloreado (RGB) 2016 - PNOA-2016-CAT-352-4556-ORT-CLA-COL.las\" \"lasfile.las\"\n",
    "# \"Coloreado (RGB) 2016 - PNOA-2016-CAT-352-4554-ORT-CLA-COL.las\"\n",
    "# \"Coloreado (RGB) 2016 - PNOA-2016-CAT-338-4556-ORT-CLA-COL.las\"\n",
    "folders = [chip_folder, res_map_folder]\n",
    "\n",
    "for i in range(9):\n",
    "    \n",
    "    \n",
    "    if i > 0:\n",
    "        \n",
    "        # Start partitioning\n",
    "        # Clean folder in bucket if exists, if not create it\n",
    "        [lidarutils.clean_folder(folder) for folder in folders]\n",
    "    \n",
    "        # Set variables and start partitioning\n",
    "        partitions = 2**i\n",
    "        buffer = 10\n",
    "        num_points = ceil(5492898/partitions) #5492898 3791954 1373224 343306\n",
    "        # print(num_points)\n",
    "        \n",
    "        partition_args = [(fname, chip_folder, num_points, i, buffer) for i in range(1)]\n",
    "        st_split = time.time()\n",
    "        with ServerlessExecutor(runtime_memory=3072) as exec: #runtime_memory=3072\n",
    "            exec.map(partition_file, partition_args)\n",
    "            exec.get_result()\n",
    "        end_split = time.time() - st_split\n",
    "        print(f'Total partition time: {end_split} s')\n",
    "    \n",
    "    # Processing files resulting from the partition stage \n",
    "    st_processing = time.time()\n",
    "    if i == 0:\n",
    "        map_runtime_memory = 2048\n",
    "    elif i > 4:\n",
    "        map_runtime_memory = 512\n",
    "    else:\n",
    "        map_runtime_memory = 1024\n",
    "        \n",
    "    files = os_cl.listdir(chip_folder)\n",
    "    process_args = [(chip_folder + '/' + file, res_map_folder, buffer, st_processing) for file in files] if i > 0 \\\n",
    "                    else [(fname, res_map_folder, 0, st_processing)]\n",
    "    with ServerlessExecutor(runtime=\"ammarokran/new-smrf-conda36:1.0.6\") as exec:\n",
    "        exec.map_reduce(outlier_filter, process_args, merg_res, map_runtime_memory=map_runtime_memory,\n",
    "                        reduce_runtime_memory=4096, include_modules=['lidarutils', 'lidarpartitioner', 'utils'])\n",
    "        st_get = time.time()\n",
    "        res = exec.get_result()\n",
    "        end_get = time.time() - st_get\n",
    "        # fexec.clean()\n",
    "    end_processing = time.time() - st_processing\n",
    "    res['GettingResult_time'] = round(end_get, 3)\n",
    "    res['Processing_time'] = round(end_processing, 3)\n",
    "    processing_time.append(res)\n",
    "    print(f'Total processing time: {end_processing} s')"
   ]
  },
  {
   "cell_type": "code",
   "execution_count": 7,
   "id": "f7f53862",
   "metadata": {},
   "outputs": [
    {
     "name": "stdout",
     "output_type": "stream",
     "text": [
      "SpeedUp ['0 (base)', '1.53405x', '2.34285x', '3.64756x', '2.80404x', '2.45934x', '2.92573x', '2.65445x', '2.82736x']\n"
     ]
    }
   ],
   "source": [
    "# SpeedUp \n",
    "par_times = []\n",
    "df = pd.DataFrame(processing_time)\n",
    "seq_time = df.iloc[0]['Processing_time']\n",
    "\n",
    "par_times = [df.iloc[i]['Processing_time'] for i in range(1, len(df))]\n",
    "SpUp = [str(round((seq_time/v), 5))+'x' for v in par_times]\n",
    "SpUp.insert(0, str(0) + ' (base)')\n",
    "# # print(seq_time, diff)\n",
    "print('SpeedUp %s' % (SpUp))\n",
    "df_spup = pd.DataFrame(SpUp, columns=['SpeedUp'])\n",
    "# df_spup"
   ]
  },
  {
   "cell_type": "code",
   "execution_count": 8,
   "id": "e9575ed6",
   "metadata": {},
   "outputs": [],
   "source": [
    "df_spup['Funcs_num'] = df['Funcs_numbers']\n",
    "df_spup['Processing_time'] = df['Processing_time']\n",
    "df_spup = df_spup[['Funcs_num', 'Processing_time', 'SpeedUp']]"
   ]
  },
  {
   "cell_type": "code",
   "execution_count": 9,
   "id": "205dd5d6",
   "metadata": {},
   "outputs": [
    {
     "data": {
      "text/html": [
       "<div>\n",
       "<style scoped>\n",
       "    .dataframe tbody tr th:only-of-type {\n",
       "        vertical-align: middle;\n",
       "    }\n",
       "\n",
       "    .dataframe tbody tr th {\n",
       "        vertical-align: top;\n",
       "    }\n",
       "\n",
       "    .dataframe thead th {\n",
       "        text-align: right;\n",
       "    }\n",
       "</style>\n",
       "<table border=\"1\" class=\"dataframe\">\n",
       "  <thead>\n",
       "    <tr style=\"text-align: right;\">\n",
       "      <th></th>\n",
       "      <th>Funcs_num</th>\n",
       "      <th>Processing_time</th>\n",
       "      <th>SpeedUp</th>\n",
       "    </tr>\n",
       "  </thead>\n",
       "  <tbody>\n",
       "    <tr>\n",
       "      <th>0</th>\n",
       "      <td>1</td>\n",
       "      <td>149.528</td>\n",
       "      <td>0 (base)</td>\n",
       "    </tr>\n",
       "    <tr>\n",
       "      <th>1</th>\n",
       "      <td>2</td>\n",
       "      <td>97.473</td>\n",
       "      <td>1.53405x</td>\n",
       "    </tr>\n",
       "    <tr>\n",
       "      <th>2</th>\n",
       "      <td>4</td>\n",
       "      <td>63.823</td>\n",
       "      <td>2.34285x</td>\n",
       "    </tr>\n",
       "    <tr>\n",
       "      <th>3</th>\n",
       "      <td>8</td>\n",
       "      <td>40.994</td>\n",
       "      <td>3.64756x</td>\n",
       "    </tr>\n",
       "    <tr>\n",
       "      <th>4</th>\n",
       "      <td>16</td>\n",
       "      <td>53.326</td>\n",
       "      <td>2.80404x</td>\n",
       "    </tr>\n",
       "    <tr>\n",
       "      <th>5</th>\n",
       "      <td>32</td>\n",
       "      <td>60.800</td>\n",
       "      <td>2.45934x</td>\n",
       "    </tr>\n",
       "    <tr>\n",
       "      <th>6</th>\n",
       "      <td>64</td>\n",
       "      <td>51.108</td>\n",
       "      <td>2.92573x</td>\n",
       "    </tr>\n",
       "    <tr>\n",
       "      <th>7</th>\n",
       "      <td>128</td>\n",
       "      <td>56.331</td>\n",
       "      <td>2.65445x</td>\n",
       "    </tr>\n",
       "    <tr>\n",
       "      <th>8</th>\n",
       "      <td>256</td>\n",
       "      <td>52.886</td>\n",
       "      <td>2.82736x</td>\n",
       "    </tr>\n",
       "  </tbody>\n",
       "</table>\n",
       "</div>"
      ],
      "text/plain": [
       "   Funcs_num  Processing_time   SpeedUp\n",
       "0          1          149.528  0 (base)\n",
       "1          2           97.473  1.53405x\n",
       "2          4           63.823  2.34285x\n",
       "3          8           40.994  3.64756x\n",
       "4         16           53.326  2.80404x\n",
       "5         32           60.800  2.45934x\n",
       "6         64           51.108  2.92573x\n",
       "7        128           56.331  2.65445x\n",
       "8        256           52.886  2.82736x"
      ]
     },
     "execution_count": 9,
     "metadata": {},
     "output_type": "execute_result"
    }
   ],
   "source": [
    "df_spup"
   ]
  },
  {
   "cell_type": "code",
   "execution_count": 10,
   "id": "e6ba5629",
   "metadata": {},
   "outputs": [
    {
     "data": {
      "image/png": "[encoded data removed]",
      "text/plain": [
       "<Figure size 432x288 with 1 Axes>"
      ]
     },
     "metadata": {
      "needs_background": "light"
     },
     "output_type": "display_data"
    }
   ],
   "source": [
    "df2 = pd.DataFrame(processing_time)\n",
    "A = list(df2['Processing_time'])\n",
    "\n",
    "ind = np.arange(len(A))    # the x locations for the groups\n",
    "width = 0.7       # the width of the bars: can also be len(x) sequence\n",
    "\n",
    "p1 = plt.bar(ind, A, edgecolor='white', width=width)\n",
    "\n",
    "plt.grid(axis='y', alpha=0.5, ls='--', zorder=0)\n",
    "plt.xlabel('Number of Functions')\n",
    "plt.ylabel('Time by Second (s)')\n",
    "# plt.title('The processing time by using Lithops framework')\n",
    "plt.xticks(ind, list(df2['Funcs_numbers']))\n",
    "plt.savefig('./figures_outlier/Processing Time at time %s.png'% (datet), dpi=300, bbox_inches='tight')\n",
    "plt.show()"
   ]
  },
  {
   "cell_type": "code",
   "execution_count": 11,
   "id": "eaf7cb51",
   "metadata": {},
   "outputs": [],
   "source": [
    "df2['Proc_time'] = df2['Filtering_time'] + df2['Save_points']"
   ]
  },
  {
   "cell_type": "code",
   "execution_count": 12,
   "id": "90ba32c5",
   "metadata": {},
   "outputs": [
    {
     "data": {
      "image/png": "[encoded data removed]",
      "text/plain": [
       "<Figure size 432x288 with 1 Axes>"
      ]
     },
     "metadata": {
      "needs_background": "light"
     },
     "output_type": "display_data"
    }
   ],
   "source": [
    "A = list(df2['Downloading_Time'])\n",
    "B = list(df2['Proc_time'])\n",
    "C = list(df2['Time_Redstart'])\n",
    "D = list(df2['Reduction_time'])\n",
    "# E = list(df2['Reduction_time'])\n",
    "\n",
    "bar1 = np.add(A, B).tolist()\n",
    "bar2 = np.add(A, np.add(B, C)).tolist()\n",
    "# bar3 = np.add(np.add(A, B), np.add(C, D)).tolist()\n",
    "ind = np.arange(len(B)) \n",
    "width = 0.7\n",
    "\n",
    "p1 = plt.bar(ind, A, edgecolor='white', width=width, color='purple')\n",
    "p2 = plt.bar(ind, B, edgecolor='white', width=width,\n",
    "             bottom=A)\n",
    "p3 = plt.bar(ind, C, edgecolor='white', width=width,\n",
    "             bottom=bar1, color='grey')\n",
    "p4 = plt.bar(ind, D, edgecolor='white', width=width,\n",
    "             bottom=bar2)\n",
    "# p5 = plt.bar(ind, E, edgecolor='white', width=width,\n",
    "#              bottom=bar3)\n",
    "plt.grid(axis='y', alpha=0.5, ls='--', zorder=0)\n",
    "plt.xlabel('Number of Functions')\n",
    "plt.ylabel('Time by Second (s)')\n",
    "# plt.title('Approach #1: Time of Processing at a time %s'% (dt_string))\n",
    "plt.xticks(ind, list(df2['Funcs_numbers']))\n",
    "plt.legend((p1[0], p2[0], p3[0], p4[0]), ('Downloading Time(C1)', 'Processing Time(C2)', 'Obtaining Results Time(C3)', \n",
    "                                   'Reduction Time(C4)'), loc='upper left', bbox_to_anchor=(0.41, 1.02))\n",
    "plt.savefig('./figures_outlier/Processing Time plot at time %s.png'% (datet), dpi=300, bbox_inches='tight')\n",
    "plt.show()"
   ]
  },
  {
   "cell_type": "code",
   "execution_count": null,
   "id": "0656adb1",
   "metadata": {},
   "outputs": [],
   "source": []
  }
 ],
 "metadata": {
  "kernelspec": {
   "display_name": "Python 3",
   "language": "python",
   "name": "python3"
  },
  "language_info": {
   "codemirror_mode": {
    "name": "ipython",
    "version": 3
   },
   "file_extension": ".py",
   "mimetype": "text/x-python",
   "name": "python",
   "nbconvert_exporter": "python",
   "pygments_lexer": "ipython3",
   "version": "3.6.10"
  }
 },
 "nbformat": 4,
 "nbformat_minor": 5
}
