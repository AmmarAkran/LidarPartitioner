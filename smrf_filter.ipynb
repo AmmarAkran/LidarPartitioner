{
 "cells": [
  {
   "cell_type": "code",
   "execution_count": 1,
   "id": "a25162fb",
   "metadata": {},
   "outputs": [],
   "source": [
    "import matplotlib\n",
    "import matplotlib.pyplot as plt\n",
    "from datetime import datetime"
   ]
  },
  {
   "cell_type": "code",
   "execution_count": 2,
   "id": "41f6dce3",
   "metadata": {},
   "outputs": [],
   "source": [
    "import time\n",
    "from math import ceil\n",
    "import yaml, laspy\n",
    "import lithops\n",
    "import pandas as pd\n",
    "import numpy as np\n",
    "import neilpy\n",
    "from lithops.storage.cloud_proxy import open, os as os_cl\n",
    "from lithops import ServerlessExecutor\n",
    "from lidarpartitioner import lidarutils, utils\n",
    "from lidarpartitioner.las_partitioner import Partitioner\n",
    "from lidarpartitioner.lidarutils import *\n",
    "import lidarpartitioner\n",
    "from lithops.worker.utils import get_memory_usage\n",
    "from sklearn.neighbors import KDTree"
   ]
  },
  {
   "cell_type": "code",
   "execution_count": 3,
   "id": "5a653893",
   "metadata": {},
   "outputs": [],
   "source": [
    "# datetime object containing current date and time\n",
    "now = datetime.now()\n",
    "\n",
    "# dd/mm/YY H:M:S\n",
    "dt_string = now.strftime(\"%d/%m/%Y %H:%M:%S\")\n",
    "\n",
    "datet = dt_string.replace(\":\", \"_\").replace(\" \",\"_\").replace(\"/\",\"_\")"
   ]
  },
  {
   "cell_type": "code",
   "execution_count": 4,
   "id": "c19308bb",
   "metadata": {},
   "outputs": [],
   "source": [
    "def partition_file(fname, out_dir, num_points, sufix, buffer):\n",
    "    divider = Partitioner(fname, sufix)\n",
    "    m_threshold = num_points\n",
    "    divider.make_partition(out_dir, capacity=m_threshold, buffer=buffer)"
   ]
  },
  {
   "cell_type": "code",
   "execution_count": 5,
   "id": "6381d24f",
   "metadata": {},
   "outputs": [],
   "source": [
    "def smrf_filter(id, file, smrf_reults, buffer, call_time):\n",
    "    \n",
    "    st_map_process = time.time()\n",
    "    Allprocessing_time = dict()\n",
    "    Allprocessing_time['Object_name'] = file.split('/')[-1]\n",
    "    Allprocessing_time['Map_ID'] = id\n",
    "    Allprocessing_time['Buffer'] = buffer\n",
    "    Allprocessing_time['Time_Mapstart'] = round(st_map_process - call_time, 3)\n",
    "    print(\"ID of the function: %s\" % str(id))\n",
    "    \n",
    "    \n",
    "    # read data stream\n",
    "    st_read = time.time()\n",
    "    with open(file, 'rb') as f:\n",
    "        inF = laspy.read(f)\n",
    "    point_cloud = np.vstack((inF.x, inF.y, inF.z, inF.withheld)).T\n",
    "    df = pd.DataFrame(data=point_cloud, columns=['X', 'Y', 'Z', 'Withheld'])\n",
    "    print(df.head(10))\n",
    "    download_data = time.time() - st_read\n",
    "    Allprocessing_time['Downloading_Time'] = round(download_data, 3)  \n",
    "       \n",
    "    \n",
    "    # Run SMRF\n",
    "    st_filter = time.time()\n",
    "    cellsize = 2\n",
    "    windows = 12\n",
    "    slope_threshold = .15 \n",
    "    elevation_threshold = 0.30\n",
    "    elevation_scaler = 0.95\n",
    "    \n",
    "        \n",
    "    \n",
    "    try:\n",
    "        \n",
    "        Zsmrf, Tsmrf, obj_cells, obj_points = neilpy.smrf(df.X,df.Y,df.Z,cellsize,windows,slope_threshold,\n",
    "                                                          elevation_threshold,elevation_scaler)\n",
    "        \n",
    "        filtering_time = time.time() - st_filter\n",
    "            \n",
    "        # Save the ground points \n",
    "        st_wres = time.time()\n",
    "        fname, data = lidarutils.writer_lasfile(inF, obj_points, file, reduce_stream = True)\n",
    "        en_wres = time.time() - st_wres\n",
    "    except Exception as e:\n",
    "        print('Failed!!. Reason: %s' %(e))\n",
    "        \n",
    "    Allprocessing_time['Filtering_time'] = round(filtering_time, 3)\n",
    "    Allprocessing_time['Save_points'] = round(en_wres, 3)\n",
    "    Allprocessing_time['Maping_time'] = round(time.time() - st_map_process, 3)\n",
    "    Allprocessing_time['sendResult_time'] = time.time()\n",
    "    \n",
    "    return Allprocessing_time, data\n",
    "\n",
    "def merg_res(results):\n",
    "    \n",
    "    st_reducer = time.time()\n",
    "    pr_time = dict()\n",
    "    merging = dict()\n",
    "    Filtering_time, RWData_time, Maping_time, sendResult_time  = [], [], [], []\n",
    "    Save_points, PeriodTime_Mapstart = [], []\n",
    "    num_part = len(results)\n",
    "    buffer = results[0][0]['Buffer']\n",
    "    print(num_part)\n",
    "    \n",
    "    res_mapdata = []\n",
    "    for res in results:\n",
    "        obj = dict()\n",
    "        RWData_time.append(res[0]['Downloading_Time'])\n",
    "        Filtering_time.append(res[0]['Filtering_time'])\n",
    "        Save_points.append(res[0]['Save_points'])\n",
    "        Maping_time.append(res[0]['Maping_time'])\n",
    "        PeriodTime_Mapstart.append(res[0]['Time_Mapstart'])\n",
    "        sendResult_time.append(st_reducer - res[0]['sendResult_time'])\n",
    "        obj['Object_name'] = res[0]['Object_name']\n",
    "        obj['data_stream'] = res[1]\n",
    "        res_mapdata.append(obj)\n",
    "    del results\n",
    "    \n",
    "    # Start merging all the results\n",
    "    st_merg = time.time()\n",
    "    m_res = merg_files(res_mapdata, num_part, buffer)\n",
    "    \n",
    "    merging_time = time.time() - st_merg\n",
    "    merging['Merging_time'] = merging_time\n",
    "    \n",
    "    pr_time['Funcs_numbers'] = num_part\n",
    "    pr_time['File_name'] = m_res['File_name']\n",
    "    pr_time['Points_number'] = m_res['Points_number']\n",
    "    pr_time['Time_Mapstart'] = min(PeriodTime_Mapstart)\n",
    "    pr_time['Time_Redstart'] = round(min(sendResult_time), 3)\n",
    "    pr_time['Downloading_Time'] = max(RWData_time)\n",
    "    pr_time['Filtering_time'] = max(Filtering_time)\n",
    "    pr_time['Save_points'] = max(Save_points)\n",
    "    pr_time['Maping_time'] = max(Maping_time)\n",
    "    pr_time['Saving_data_time'] = m_res['Saving_data_time']\n",
    "    pr_time['Merging_files_time'] = m_res['Merging_files_time']\n",
    "    pr_time['Merged_uploading_time'] = m_res['Merged_uploading_time']\n",
    "    pr_time['Merging_process'] = m_res['Merging_process']\n",
    "    pr_time['Reduction_time'] = round(time.time() - st_reducer, 3)\n",
    "    \n",
    "    return pr_time"
   ]
  },
  {
   "cell_type": "code",
   "execution_count": 6,
   "id": "e020e796",
   "metadata": {
    "scrolled": true
   },
   "outputs": [
    {
     "name": "stderr",
     "output_type": "stream",
     "text": [
      "2021-11-03 20:57:30,244 [INFO] lithops.config -- Lithops v2.3.1\n",
      "2021-11-03 20:57:30,311 [INFO] lithops.storage.backends.ibm_cos.ibm_cos -- IBM COS Storage client created - Region: us-east\n",
      "2021-11-03 20:57:30,314 [INFO] lithops.serverless.backends.ibm_cf.ibm_cf -- IBM CF client created - Region: us-east - Namespace: fadi.hassan@urv.cat_fadi\n",
      "2021-11-03 20:57:30,316 [INFO] lithops.executors -- Serverless Executor created with ID: 850f58-0\n",
      "2021-11-03 20:57:30,317 [INFO] lithops.invokers -- ExecutorID 850f58-0 | JobID M000 - Selected Runtime: ammarokran/new-smrf-conda36:1.0.6 - 2048MB \n",
      "2021-11-03 20:57:30,408 [INFO] lithops.job.job -- ExecutorID 850f58-0 | JobID M000 - Uploading function and data - Total: 49.8KiB\n",
      "2021-11-03 20:57:32,097 [INFO] lithops.invokers -- ExecutorID 850f58-0 | JobID M000 - Starting function invocation: smrf_filter() - Total: 1 activations\n",
      "2021-11-03 20:57:32,203 [INFO] lithops.invokers -- ExecutorID 850f58-0 | JobID M000 - View execution logs at C:\\Users\\Ammar\\AppData\\Local\\Temp\\lithops\\logs\\850f58-0-M000.log\n",
      "2021-11-03 20:57:32,203 [INFO] lithops.invokers -- ExecutorID 850f58-0 | JobID R000 - Selected Runtime: ammarokran/new-smrf-conda36:1.0.6 - 4096MB \n",
      "2021-11-03 20:57:32,235 [INFO] lithops.job.job -- ExecutorID 850f58-0 | JobID R000 - Uploading function and data - Total: 50.0KiB\n",
      "2021-11-03 20:57:32,959 [INFO] lithops.invokers -- ExecutorID 850f58-0 | JobID R000 - Starting function invocation: merg_res() - Total: 1 activations\n",
      "2021-11-03 20:57:33,063 [INFO] lithops.invokers -- ExecutorID 850f58-0 | JobID R000 - View execution logs at C:\\Users\\Ammar\\AppData\\Local\\Temp\\lithops\\logs\\850f58-0-R000.log\n",
      "2021-11-03 20:57:33,063 [INFO] lithops.executors -- ExecutorID 850f58-0 - Getting results\n"
     ]
    },
    {
     "data": {
      "application/vnd.jupyter.widget-view+json": {
       "model_id": "3673b5473a8e4a0aace732b8344703a2",
       "version_major": 2,
       "version_minor": 0
      },
      "text/plain": [
       "    0%|          | 0/2  "
      ]
     },
     "metadata": {},
     "output_type": "display_data"
    },
    {
     "name": "stderr",
     "output_type": "stream",
     "text": [
      "2021-11-03 20:59:24,323 [INFO] lithops.executors -- ExecutorID 850f58-0 - Cleaning temporary data\n"
     ]
    },
    {
     "name": "stdout",
     "output_type": "stream",
     "text": [
      "Total processing time: 115.87306261062622 s\n"
     ]
    },
    {
     "name": "stderr",
     "output_type": "stream",
     "text": [
      "2021-11-03 21:00:51,353 [INFO] lithops.config -- Lithops v2.3.1\n",
      "2021-11-03 21:00:51,403 [INFO] lithops.storage.backends.ibm_cos.ibm_cos -- IBM COS Storage client created - Region: us-east\n",
      "2021-11-03 21:00:51,403 [INFO] lithops.serverless.backends.ibm_cf.ibm_cf -- IBM CF client created - Region: us-east - Namespace: fadi.hassan@urv.cat_fadi\n",
      "2021-11-03 21:00:51,403 [INFO] lithops.executors -- Serverless Executor created with ID: 850f58-1\n",
      "2021-11-03 21:00:51,413 [INFO] lithops.invokers -- ExecutorID 850f58-1 | JobID M000 - Selected Runtime: ammarokran/part-lidar:1.0 - 3072MB \n",
      "2021-11-03 21:00:51,437 [INFO] lithops.job.job -- ExecutorID 850f58-1 | JobID M000 - Uploading function and data - Total: 48.0KiB\n"
     ]
    },
    {
     "name": "stdout",
     "output_type": "stream",
     "text": [
      "smrf_reults folder is not exist!\n"
     ]
    },
    {
     "name": "stderr",
     "output_type": "stream",
     "text": [
      "2021-11-03 21:00:52,483 [INFO] lithops.invokers -- ExecutorID 850f58-1 | JobID M000 - Starting function invocation: partition_file() - Total: 1 activations\n",
      "2021-11-03 21:00:52,593 [INFO] lithops.invokers -- ExecutorID 850f58-1 | JobID M000 - View execution logs at C:\\Users\\Ammar\\AppData\\Local\\Temp\\lithops\\logs\\850f58-1-M000.log\n",
      "2021-11-03 21:00:52,598 [INFO] lithops.executors -- ExecutorID 850f58-1 - Getting results\n"
     ]
    },
    {
     "data": {
      "application/vnd.jupyter.widget-view+json": {
       "model_id": "750a8fb0b6d9459f8e6533f25aa66f83",
       "version_major": 2,
       "version_minor": 0
      },
      "text/plain": [
       "    0%|          | 0/1  "
      ]
     },
     "metadata": {},
     "output_type": "display_data"
    },
    {
     "name": "stderr",
     "output_type": "stream",
     "text": [
      "2021-11-03 21:03:31,458 [INFO] lithops.executors -- ExecutorID 850f58-1 - Cleaning temporary data\n",
      "2021-11-03 21:03:31,633 [INFO] lithops.config -- Lithops v2.3.1\n"
     ]
    },
    {
     "name": "stdout",
     "output_type": "stream",
     "text": [
      "Total partition time: 160.1160147190094 s\n"
     ]
    },
    {
     "name": "stderr",
     "output_type": "stream",
     "text": [
      "2021-11-03 21:03:31,663 [INFO] lithops.storage.backends.ibm_cos.ibm_cos -- IBM COS Storage client created - Region: us-east\n",
      "2021-11-03 21:03:31,663 [INFO] lithops.serverless.backends.ibm_cf.ibm_cf -- IBM CF client created - Region: us-east - Namespace: fadi.hassan@urv.cat_fadi\n",
      "2021-11-03 21:03:31,663 [INFO] lithops.executors -- Serverless Executor created with ID: 850f58-2\n",
      "2021-11-03 21:03:31,663 [INFO] lithops.invokers -- ExecutorID 850f58-2 | JobID M000 - Selected Runtime: ammarokran/new-smrf-conda36:1.0.6 - 1024MB \n",
      "2021-11-03 21:03:31,733 [INFO] lithops.job.job -- ExecutorID 850f58-2 | JobID M000 - Uploading function and data - Total: 49.9KiB\n",
      "2021-11-03 21:03:32,933 [INFO] lithops.invokers -- ExecutorID 850f58-2 | JobID M000 - Starting function invocation: smrf_filter() - Total: 2 activations\n",
      "2021-11-03 21:03:33,043 [INFO] lithops.invokers -- ExecutorID 850f58-2 | JobID M000 - View execution logs at C:\\Users\\Ammar\\AppData\\Local\\Temp\\lithops\\logs\\850f58-2-M000.log\n",
      "2021-11-03 21:03:33,048 [INFO] lithops.invokers -- ExecutorID 850f58-2 | JobID R000 - Selected Runtime: ammarokran/new-smrf-conda36:1.0.6 - 4096MB \n",
      "2021-11-03 21:03:33,103 [INFO] lithops.job.job -- ExecutorID 850f58-2 | JobID R000 - Uploading function and data - Total: 50.2KiB\n",
      "2021-11-03 21:03:33,853 [INFO] lithops.invokers -- ExecutorID 850f58-2 | JobID R000 - Starting function invocation: merg_res() - Total: 1 activations\n",
      "2021-11-03 21:03:33,958 [INFO] lithops.invokers -- ExecutorID 850f58-2 | JobID R000 - View execution logs at C:\\Users\\Ammar\\AppData\\Local\\Temp\\lithops\\logs\\850f58-2-R000.log\n",
      "2021-11-03 21:03:33,958 [INFO] lithops.executors -- ExecutorID 850f58-2 - Getting results\n"
     ]
    },
    {
     "data": {
      "application/vnd.jupyter.widget-view+json": {
       "model_id": "b9c07e2fab44403da04ab8d6873aece9",
       "version_major": 2,
       "version_minor": 0
      },
      "text/plain": [
       "    0%|          | 0/3  "
      ]
     },
     "metadata": {},
     "output_type": "display_data"
    },
    {
     "name": "stderr",
     "output_type": "stream",
     "text": [
      "2021-11-03 21:04:48,223 [INFO] lithops.executors -- ExecutorID 850f58-2 - Cleaning temporary data\n"
     ]
    },
    {
     "name": "stdout",
     "output_type": "stream",
     "text": [
      "Total processing time: 76.76918745040894 s\n"
     ]
    },
    {
     "name": "stderr",
     "output_type": "stream",
     "text": [
      "2021-11-03 21:04:49,148 [INFO] lithops.config -- Lithops v2.3.1\n",
      "2021-11-03 21:04:49,183 [INFO] lithops.storage.backends.ibm_cos.ibm_cos -- IBM COS Storage client created - Region: us-east\n",
      "2021-11-03 21:04:49,183 [INFO] lithops.serverless.backends.ibm_cf.ibm_cf -- IBM CF client created - Region: us-east - Namespace: fadi.hassan@urv.cat_fadi\n",
      "2021-11-03 21:04:49,183 [INFO] lithops.executors -- Serverless Executor created with ID: 850f58-3\n",
      "2021-11-03 21:04:49,188 [INFO] lithops.invokers -- ExecutorID 850f58-3 | JobID M000 - Selected Runtime: ammarokran/part-lidar:1.0 - 3072MB \n",
      "2021-11-03 21:04:49,218 [INFO] lithops.job.job -- ExecutorID 850f58-3 | JobID M000 - Uploading function and data - Total: 48.0KiB\n"
     ]
    },
    {
     "name": "stdout",
     "output_type": "stream",
     "text": [
      "smrf_reults folder is not exist!\n"
     ]
    },
    {
     "name": "stderr",
     "output_type": "stream",
     "text": [
      "2021-11-03 21:04:50,273 [INFO] lithops.invokers -- ExecutorID 850f58-3 | JobID M000 - Starting function invocation: partition_file() - Total: 1 activations\n",
      "2021-11-03 21:04:50,383 [INFO] lithops.invokers -- ExecutorID 850f58-3 | JobID M000 - View execution logs at C:\\Users\\Ammar\\AppData\\Local\\Temp\\lithops\\logs\\850f58-3-M000.log\n",
      "2021-11-03 21:04:50,383 [INFO] lithops.executors -- ExecutorID 850f58-3 - Getting results\n"
     ]
    },
    {
     "data": {
      "application/vnd.jupyter.widget-view+json": {
       "model_id": "86c9e9a7830241aea6d4d56b69992242",
       "version_major": 2,
       "version_minor": 0
      },
      "text/plain": [
       "    0%|          | 0/1  "
      ]
     },
     "metadata": {},
     "output_type": "display_data"
    },
    {
     "name": "stderr",
     "output_type": "stream",
     "text": [
      "2021-11-03 21:07:13,673 [INFO] lithops.executors -- ExecutorID 850f58-3 - Cleaning temporary data\n",
      "2021-11-03 21:07:13,853 [INFO] lithops.config -- Lithops v2.3.1\n",
      "2021-11-03 21:07:13,888 [INFO] lithops.storage.backends.ibm_cos.ibm_cos -- IBM COS Storage client created - Region: us-east\n"
     ]
    },
    {
     "name": "stdout",
     "output_type": "stream",
     "text": [
      "Total partition time: 144.54071617126465 s\n"
     ]
    },
    {
     "name": "stderr",
     "output_type": "stream",
     "text": [
      "2021-11-03 21:07:13,893 [INFO] lithops.serverless.backends.ibm_cf.ibm_cf -- IBM CF client created - Region: us-east - Namespace: fadi.hassan@urv.cat_fadi\n",
      "2021-11-03 21:07:13,893 [INFO] lithops.executors -- Serverless Executor created with ID: 850f58-4\n",
      "2021-11-03 21:07:13,893 [INFO] lithops.invokers -- ExecutorID 850f58-4 | JobID M000 - Selected Runtime: ammarokran/new-smrf-conda36:1.0.6 - 1024MB \n",
      "2021-11-03 21:07:13,944 [INFO] lithops.job.job -- ExecutorID 850f58-4 | JobID M000 - Uploading function and data - Total: 50.2KiB\n",
      "2021-11-03 21:07:15,028 [INFO] lithops.invokers -- ExecutorID 850f58-4 | JobID M000 - Starting function invocation: smrf_filter() - Total: 4 activations\n",
      "2021-11-03 21:07:15,138 [INFO] lithops.invokers -- ExecutorID 850f58-4 | JobID M000 - View execution logs at C:\\Users\\Ammar\\AppData\\Local\\Temp\\lithops\\logs\\850f58-4-M000.log\n",
      "2021-11-03 21:07:15,138 [INFO] lithops.invokers -- ExecutorID 850f58-4 | JobID R000 - Selected Runtime: ammarokran/new-smrf-conda36:1.0.6 - 4096MB \n",
      "2021-11-03 21:07:15,168 [INFO] lithops.job.job -- ExecutorID 850f58-4 | JobID R000 - Uploading function and data - Total: 50.6KiB\n",
      "2021-11-03 21:07:15,638 [INFO] lithops.invokers -- ExecutorID 850f58-4 | JobID R000 - Starting function invocation: merg_res() - Total: 1 activations\n",
      "2021-11-03 21:07:15,753 [INFO] lithops.invokers -- ExecutorID 850f58-4 | JobID R000 - View execution logs at C:\\Users\\Ammar\\AppData\\Local\\Temp\\lithops\\logs\\850f58-4-R000.log\n",
      "2021-11-03 21:07:15,753 [INFO] lithops.executors -- ExecutorID 850f58-4 - Getting results\n"
     ]
    },
    {
     "data": {
      "application/vnd.jupyter.widget-view+json": {
       "model_id": "f570632797c942c792d9ea3f7e9abd33",
       "version_major": 2,
       "version_minor": 0
      },
      "text/plain": [
       "    0%|          | 0/5  "
      ]
     },
     "metadata": {},
     "output_type": "display_data"
    },
    {
     "name": "stderr",
     "output_type": "stream",
     "text": [
      "2021-11-03 21:08:05,423 [INFO] lithops.executors -- ExecutorID 850f58-4 - Cleaning temporary data\n"
     ]
    },
    {
     "name": "stdout",
     "output_type": "stream",
     "text": [
      "Total processing time: 51.75461435317993 s\n"
     ]
    },
    {
     "name": "stderr",
     "output_type": "stream",
     "text": [
      "2021-11-03 21:08:06,898 [INFO] lithops.config -- Lithops v2.3.1\n",
      "2021-11-03 21:08:06,944 [INFO] lithops.storage.backends.ibm_cos.ibm_cos -- IBM COS Storage client created - Region: us-east\n",
      "2021-11-03 21:08:06,944 [INFO] lithops.serverless.backends.ibm_cf.ibm_cf -- IBM CF client created - Region: us-east - Namespace: fadi.hassan@urv.cat_fadi\n",
      "2021-11-03 21:08:06,944 [INFO] lithops.executors -- Serverless Executor created with ID: 850f58-5\n",
      "2021-11-03 21:08:06,944 [INFO] lithops.invokers -- ExecutorID 850f58-5 | JobID M000 - Selected Runtime: ammarokran/part-lidar:1.0 - 3072MB \n",
      "2021-11-03 21:08:06,963 [INFO] lithops.job.job -- ExecutorID 850f58-5 | JobID M000 - Uploading function and data - Total: 48.0KiB\n"
     ]
    },
    {
     "name": "stdout",
     "output_type": "stream",
     "text": [
      "smrf_reults folder is not exist!\n"
     ]
    },
    {
     "name": "stderr",
     "output_type": "stream",
     "text": [
      "2021-11-03 21:08:08,033 [INFO] lithops.invokers -- ExecutorID 850f58-5 | JobID M000 - Starting function invocation: partition_file() - Total: 1 activations\n",
      "2021-11-03 21:08:08,163 [INFO] lithops.invokers -- ExecutorID 850f58-5 | JobID M000 - View execution logs at C:\\Users\\Ammar\\AppData\\Local\\Temp\\lithops\\logs\\850f58-5-M000.log\n",
      "2021-11-03 21:08:08,163 [INFO] lithops.executors -- ExecutorID 850f58-5 - Getting results\n"
     ]
    },
    {
     "data": {
      "application/vnd.jupyter.widget-view+json": {
       "model_id": "ea497966e59d4413afbe70d3df0fcfa2",
       "version_major": 2,
       "version_minor": 0
      },
      "text/plain": [
       "    0%|          | 0/1  "
      ]
     },
     "metadata": {},
     "output_type": "display_data"
    },
    {
     "name": "stderr",
     "output_type": "stream",
     "text": [
      "2021-11-03 21:10:16,274 [INFO] lithops.executors -- ExecutorID 850f58-5 - Cleaning temporary data\n",
      "2021-11-03 21:10:16,428 [INFO] lithops.config -- Lithops v2.3.1\n",
      "2021-11-03 21:10:16,448 [INFO] lithops.storage.backends.ibm_cos.ibm_cos -- IBM COS Storage client created - Region: us-east\n",
      "2021-11-03 21:10:16,448 [INFO] lithops.serverless.backends.ibm_cf.ibm_cf -- IBM CF client created - Region: us-east - Namespace: fadi.hassan@urv.cat_fadi\n",
      "2021-11-03 21:10:16,448 [INFO] lithops.executors -- Serverless Executor created with ID: 850f58-6\n",
      "2021-11-03 21:10:16,448 [INFO] lithops.invokers -- ExecutorID 850f58-6 | JobID M000 - Selected Runtime: ammarokran/new-smrf-conda36:1.0.6 - 1024MB \n"
     ]
    },
    {
     "name": "stdout",
     "output_type": "stream",
     "text": [
      "Total partition time: 129.39498138427734 s\n"
     ]
    },
    {
     "name": "stderr",
     "output_type": "stream",
     "text": [
      "2021-11-03 21:10:16,523 [INFO] lithops.job.job -- ExecutorID 850f58-6 | JobID M000 - Uploading function and data - Total: 50.8KiB\n",
      "2021-11-03 21:10:17,658 [INFO] lithops.invokers -- ExecutorID 850f58-6 | JobID M000 - Starting function invocation: smrf_filter() - Total: 8 activations\n",
      "2021-11-03 21:10:17,803 [INFO] lithops.invokers -- ExecutorID 850f58-6 | JobID M000 - View execution logs at C:\\Users\\Ammar\\AppData\\Local\\Temp\\lithops\\logs\\850f58-6-M000.log\n",
      "2021-11-03 21:10:17,803 [INFO] lithops.invokers -- ExecutorID 850f58-6 | JobID R000 - Selected Runtime: ammarokran/new-smrf-conda36:1.0.6 - 4096MB \n",
      "2021-11-03 21:10:17,838 [INFO] lithops.job.job -- ExecutorID 850f58-6 | JobID R000 - Uploading function and data - Total: 51.3KiB\n",
      "2021-11-03 21:10:18,313 [INFO] lithops.invokers -- ExecutorID 850f58-6 | JobID R000 - Starting function invocation: merg_res() - Total: 1 activations\n",
      "2021-11-03 21:10:18,434 [INFO] lithops.invokers -- ExecutorID 850f58-6 | JobID R000 - View execution logs at C:\\Users\\Ammar\\AppData\\Local\\Temp\\lithops\\logs\\850f58-6-R000.log\n",
      "2021-11-03 21:10:18,438 [INFO] lithops.executors -- ExecutorID 850f58-6 - Getting results\n"
     ]
    },
    {
     "data": {
      "application/vnd.jupyter.widget-view+json": {
       "model_id": "3bc7df15545f426f9b9c32bf4c3f7167",
       "version_major": 2,
       "version_minor": 0
      },
      "text/plain": [
       "    0%|          | 0/9  "
      ]
     },
     "metadata": {},
     "output_type": "display_data"
    },
    {
     "name": "stderr",
     "output_type": "stream",
     "text": [
      "2021-11-03 21:11:08,773 [INFO] lithops.executors -- ExecutorID 850f58-6 - Cleaning temporary data\n"
     ]
    },
    {
     "name": "stdout",
     "output_type": "stream",
     "text": [
      "Total processing time: 52.49977254867554 s\n"
     ]
    },
    {
     "name": "stderr",
     "output_type": "stream",
     "text": [
      "2021-11-03 21:11:12,053 [INFO] lithops.config -- Lithops v2.3.1\n",
      "2021-11-03 21:11:12,073 [INFO] lithops.storage.backends.ibm_cos.ibm_cos -- IBM COS Storage client created - Region: us-east\n",
      "2021-11-03 21:11:12,078 [INFO] lithops.serverless.backends.ibm_cf.ibm_cf -- IBM CF client created - Region: us-east - Namespace: fadi.hassan@urv.cat_fadi\n",
      "2021-11-03 21:11:12,078 [INFO] lithops.executors -- Serverless Executor created with ID: 850f58-7\n",
      "2021-11-03 21:11:12,078 [INFO] lithops.invokers -- ExecutorID 850f58-7 | JobID M000 - Selected Runtime: ammarokran/part-lidar:1.0 - 3072MB \n",
      "2021-11-03 21:11:12,098 [INFO] lithops.job.job -- ExecutorID 850f58-7 | JobID M000 - Uploading function and data - Total: 48.0KiB\n"
     ]
    },
    {
     "name": "stdout",
     "output_type": "stream",
     "text": [
      "smrf_reults folder is not exist!\n"
     ]
    },
    {
     "name": "stderr",
     "output_type": "stream",
     "text": [
      "2021-11-03 21:11:13,218 [INFO] lithops.invokers -- ExecutorID 850f58-7 | JobID M000 - Starting function invocation: partition_file() - Total: 1 activations\n",
      "2021-11-03 21:11:13,333 [INFO] lithops.invokers -- ExecutorID 850f58-7 | JobID M000 - View execution logs at C:\\Users\\Ammar\\AppData\\Local\\Temp\\lithops\\logs\\850f58-7-M000.log\n",
      "2021-11-03 21:11:13,333 [INFO] lithops.executors -- ExecutorID 850f58-7 - Getting results\n"
     ]
    },
    {
     "data": {
      "application/vnd.jupyter.widget-view+json": {
       "model_id": "a7892946533c48359ce5b97ca79fe369",
       "version_major": 2,
       "version_minor": 0
      },
      "text/plain": [
       "    0%|          | 0/1  "
      ]
     },
     "metadata": {},
     "output_type": "display_data"
    },
    {
     "name": "stderr",
     "output_type": "stream",
     "text": [
      "2021-11-03 21:14:09,823 [INFO] lithops.executors -- ExecutorID 850f58-7 - Cleaning temporary data\n",
      "2021-11-03 21:14:10,008 [INFO] lithops.config -- Lithops v2.3.1\n",
      "2021-11-03 21:14:10,028 [INFO] lithops.storage.backends.ibm_cos.ibm_cos -- IBM COS Storage client created - Region: us-east\n",
      "2021-11-03 21:14:10,028 [INFO] lithops.serverless.backends.ibm_cf.ibm_cf -- IBM CF client created - Region: us-east - Namespace: fadi.hassan@urv.cat_fadi\n",
      "2021-11-03 21:14:10,033 [INFO] lithops.executors -- Serverless Executor created with ID: 850f58-8\n",
      "2021-11-03 21:14:10,033 [INFO] lithops.invokers -- ExecutorID 850f58-8 | JobID M000 - Selected Runtime: ammarokran/new-smrf-conda36:1.0.6 - 1024MB \n"
     ]
    },
    {
     "name": "stdout",
     "output_type": "stream",
     "text": [
      "Total partition time: 177.7902512550354 s\n"
     ]
    },
    {
     "name": "stderr",
     "output_type": "stream",
     "text": [
      "2021-11-03 21:14:10,070 [INFO] lithops.job.job -- ExecutorID 850f58-8 | JobID M000 - Uploading function and data - Total: 52.0KiB\n",
      "2021-11-03 21:14:11,198 [INFO] lithops.invokers -- ExecutorID 850f58-8 | JobID M000 - Starting function invocation: smrf_filter() - Total: 16 activations\n",
      "2021-11-03 21:14:11,333 [INFO] lithops.invokers -- ExecutorID 850f58-8 | JobID M000 - View execution logs at C:\\Users\\Ammar\\AppData\\Local\\Temp\\lithops\\logs\\850f58-8-M000.log\n",
      "2021-11-03 21:14:11,339 [INFO] lithops.invokers -- ExecutorID 850f58-8 | JobID R000 - Selected Runtime: ammarokran/new-smrf-conda36:1.0.6 - 4096MB \n",
      "2021-11-03 21:14:11,463 [INFO] lithops.job.job -- ExecutorID 850f58-8 | JobID R000 - Uploading function and data - Total: 52.8KiB\n",
      "2021-11-03 21:14:11,988 [INFO] lithops.invokers -- ExecutorID 850f58-8 | JobID R000 - Starting function invocation: merg_res() - Total: 1 activations\n",
      "2021-11-03 21:14:12,103 [INFO] lithops.invokers -- ExecutorID 850f58-8 | JobID R000 - View execution logs at C:\\Users\\Ammar\\AppData\\Local\\Temp\\lithops\\logs\\850f58-8-R000.log\n",
      "2021-11-03 21:14:12,104 [INFO] lithops.executors -- ExecutorID 850f58-8 - Getting results\n"
     ]
    },
    {
     "data": {
      "application/vnd.jupyter.widget-view+json": {
       "model_id": "cbdbf7816f4f48eab2a3b171879e640e",
       "version_major": 2,
       "version_minor": 0
      },
      "text/plain": [
       "    0%|          | 0/17  "
      ]
     },
     "metadata": {},
     "output_type": "display_data"
    },
    {
     "name": "stderr",
     "output_type": "stream",
     "text": [
      "2021-11-03 21:15:04,213 [INFO] lithops.executors -- ExecutorID 850f58-8 - Cleaning temporary data\n"
     ]
    },
    {
     "name": "stdout",
     "output_type": "stream",
     "text": [
      "Total processing time: 54.38525462150574 s\n"
     ]
    },
    {
     "name": "stderr",
     "output_type": "stream",
     "text": [
      "2021-11-03 21:15:10,303 [INFO] lithops.config -- Lithops v2.3.1\n",
      "2021-11-03 21:15:10,333 [INFO] lithops.storage.backends.ibm_cos.ibm_cos -- IBM COS Storage client created - Region: us-east\n",
      "2021-11-03 21:15:10,338 [INFO] lithops.serverless.backends.ibm_cf.ibm_cf -- IBM CF client created - Region: us-east - Namespace: fadi.hassan@urv.cat_fadi\n",
      "2021-11-03 21:15:10,338 [INFO] lithops.executors -- Serverless Executor created with ID: 850f58-9\n",
      "2021-11-03 21:15:10,338 [INFO] lithops.invokers -- ExecutorID 850f58-9 | JobID M000 - Selected Runtime: ammarokran/part-lidar:1.0 - 3072MB \n",
      "2021-11-03 21:15:10,358 [INFO] lithops.job.job -- ExecutorID 850f58-9 | JobID M000 - Uploading function and data - Total: 48.0KiB\n"
     ]
    },
    {
     "name": "stdout",
     "output_type": "stream",
     "text": [
      "smrf_reults folder is not exist!\n"
     ]
    },
    {
     "name": "stderr",
     "output_type": "stream",
     "text": [
      "2021-11-03 21:15:11,433 [INFO] lithops.invokers -- ExecutorID 850f58-9 | JobID M000 - Starting function invocation: partition_file() - Total: 1 activations\n",
      "2021-11-03 21:15:11,553 [INFO] lithops.invokers -- ExecutorID 850f58-9 | JobID M000 - View execution logs at C:\\Users\\Ammar\\AppData\\Local\\Temp\\lithops\\logs\\850f58-9-M000.log\n",
      "2021-11-03 21:15:11,553 [INFO] lithops.executors -- ExecutorID 850f58-9 - Getting results\n"
     ]
    },
    {
     "data": {
      "application/vnd.jupyter.widget-view+json": {
       "model_id": "f1fa4646d455460b963c4fda80b12c04",
       "version_major": 2,
       "version_minor": 0
      },
      "text/plain": [
       "    0%|          | 0/1  "
      ]
     },
     "metadata": {},
     "output_type": "display_data"
    },
    {
     "name": "stderr",
     "output_type": "stream",
     "text": [
      "2021-11-03 21:17:51,143 [INFO] lithops.executors -- ExecutorID 850f58-9 - Cleaning temporary data\n",
      "2021-11-03 21:17:51,313 [INFO] lithops.config -- Lithops v2.3.1\n",
      "2021-11-03 21:17:51,333 [INFO] lithops.storage.backends.ibm_cos.ibm_cos -- IBM COS Storage client created - Region: us-east\n",
      "2021-11-03 21:17:51,333 [INFO] lithops.serverless.backends.ibm_cf.ibm_cf -- IBM CF client created - Region: us-east - Namespace: fadi.hassan@urv.cat_fadi\n",
      "2021-11-03 21:17:51,343 [INFO] lithops.executors -- Serverless Executor created with ID: 850f58-10\n",
      "2021-11-03 21:17:51,343 [INFO] lithops.invokers -- ExecutorID 850f58-10 | JobID M000 - Selected Runtime: ammarokran/new-smrf-conda36:1.0.6 - 512MB \n"
     ]
    },
    {
     "name": "stdout",
     "output_type": "stream",
     "text": [
      "Total partition time: 160.84983015060425 s\n"
     ]
    },
    {
     "name": "stderr",
     "output_type": "stream",
     "text": [
      "2021-11-03 21:17:51,383 [INFO] lithops.job.job -- ExecutorID 850f58-10 | JobID M000 - Uploading function and data - Total: 54.4KiB\n",
      "2021-11-03 21:17:52,584 [INFO] lithops.invokers -- ExecutorID 850f58-10 | JobID M000 - Starting function invocation: smrf_filter() - Total: 32 activations\n",
      "2021-11-03 21:17:52,723 [INFO] lithops.invokers -- ExecutorID 850f58-10 | JobID M000 - View execution logs at C:\\Users\\Ammar\\AppData\\Local\\Temp\\lithops\\logs\\850f58-10-M000.log\n",
      "2021-11-03 21:17:52,723 [INFO] lithops.invokers -- ExecutorID 850f58-10 | JobID R000 - Selected Runtime: ammarokran/new-smrf-conda36:1.0.6 - 4096MB \n",
      "2021-11-03 21:17:52,753 [INFO] lithops.job.job -- ExecutorID 850f58-10 | JobID R000 - Uploading function and data - Total: 55.7KiB\n",
      "2021-11-03 21:17:53,238 [INFO] lithops.invokers -- ExecutorID 850f58-10 | JobID R000 - Starting function invocation: merg_res() - Total: 1 activations\n",
      "2021-11-03 21:17:53,365 [INFO] lithops.invokers -- ExecutorID 850f58-10 | JobID R000 - View execution logs at C:\\Users\\Ammar\\AppData\\Local\\Temp\\lithops\\logs\\850f58-10-R000.log\n",
      "2021-11-03 21:17:53,368 [INFO] lithops.executors -- ExecutorID 850f58-10 - Getting results\n"
     ]
    },
    {
     "data": {
      "application/vnd.jupyter.widget-view+json": {
       "model_id": "e73edcdf9f004645a7bae9e7346c50b4",
       "version_major": 2,
       "version_minor": 0
      },
      "text/plain": [
       "    0%|          | 0/33  "
      ]
     },
     "metadata": {},
     "output_type": "display_data"
    },
    {
     "name": "stderr",
     "output_type": "stream",
     "text": [
      "2021-11-03 21:19:05,633 [INFO] lithops.executors -- ExecutorID 850f58-10 - Cleaning temporary data\n"
     ]
    },
    {
     "name": "stdout",
     "output_type": "stream",
     "text": [
      "Total processing time: 74.50523805618286 s\n"
     ]
    },
    {
     "name": "stderr",
     "output_type": "stream",
     "text": [
      "2021-11-03 21:19:16,413 [INFO] lithops.config -- Lithops v2.3.1\n",
      "2021-11-03 21:19:16,450 [INFO] lithops.storage.backends.ibm_cos.ibm_cos -- IBM COS Storage client created - Region: us-east\n",
      "2021-11-03 21:19:16,450 [INFO] lithops.serverless.backends.ibm_cf.ibm_cf -- IBM CF client created - Region: us-east - Namespace: fadi.hassan@urv.cat_fadi\n",
      "2021-11-03 21:19:16,453 [INFO] lithops.executors -- Serverless Executor created with ID: 850f58-11\n",
      "2021-11-03 21:19:16,453 [INFO] lithops.invokers -- ExecutorID 850f58-11 | JobID M000 - Selected Runtime: ammarokran/part-lidar:1.0 - 3072MB \n",
      "2021-11-03 21:19:16,483 [INFO] lithops.job.job -- ExecutorID 850f58-11 | JobID M000 - Uploading function and data - Total: 48.0KiB\n"
     ]
    },
    {
     "name": "stdout",
     "output_type": "stream",
     "text": [
      "smrf_reults folder is not exist!\n"
     ]
    },
    {
     "name": "stderr",
     "output_type": "stream",
     "text": [
      "2021-11-03 21:19:18,359 [INFO] lithops.invokers -- ExecutorID 850f58-11 | JobID M000 - Starting function invocation: partition_file() - Total: 1 activations\n",
      "2021-11-03 21:19:18,474 [INFO] lithops.invokers -- ExecutorID 850f58-11 | JobID M000 - View execution logs at C:\\Users\\Ammar\\AppData\\Local\\Temp\\lithops\\logs\\850f58-11-M000.log\n",
      "2021-11-03 21:19:18,479 [INFO] lithops.executors -- ExecutorID 850f58-11 - Getting results\n"
     ]
    },
    {
     "data": {
      "application/vnd.jupyter.widget-view+json": {
       "model_id": "6765ce684d2e423f93d2ce6a6e087843",
       "version_major": 2,
       "version_minor": 0
      },
      "text/plain": [
       "    0%|          | 0/1  "
      ]
     },
     "metadata": {},
     "output_type": "display_data"
    },
    {
     "name": "stderr",
     "output_type": "stream",
     "text": [
      "2021-11-03 21:22:01,673 [INFO] lithops.executors -- ExecutorID 850f58-11 - Cleaning temporary data\n",
      "2021-11-03 21:22:01,863 [INFO] lithops.config -- Lithops v2.3.1\n",
      "2021-11-03 21:22:01,897 [INFO] lithops.storage.backends.ibm_cos.ibm_cos -- IBM COS Storage client created - Region: us-east\n"
     ]
    },
    {
     "name": "stdout",
     "output_type": "stream",
     "text": [
      "Total partition time: 165.2750096321106 s\n"
     ]
    },
    {
     "name": "stderr",
     "output_type": "stream",
     "text": [
      "2021-11-03 21:22:01,897 [INFO] lithops.serverless.backends.ibm_cf.ibm_cf -- IBM CF client created - Region: us-east - Namespace: fadi.hassan@urv.cat_fadi\n",
      "2021-11-03 21:22:01,897 [INFO] lithops.executors -- Serverless Executor created with ID: 850f58-12\n",
      "2021-11-03 21:22:01,897 [INFO] lithops.invokers -- ExecutorID 850f58-12 | JobID M000 - Selected Runtime: ammarokran/new-smrf-conda36:1.0.6 - 512MB \n",
      "2021-11-03 21:22:01,948 [INFO] lithops.job.job -- ExecutorID 850f58-12 | JobID M000 - Uploading function and data - Total: 59.1KiB\n",
      "2021-11-03 21:22:02,978 [INFO] lithops.invokers -- ExecutorID 850f58-12 | JobID M000 - Starting function invocation: smrf_filter() - Total: 64 activations\n",
      "2021-11-03 21:22:03,194 [INFO] lithops.invokers -- ExecutorID 850f58-12 | JobID M000 - View execution logs at C:\\Users\\Ammar\\AppData\\Local\\Temp\\lithops\\logs\\850f58-12-M000.log\n",
      "2021-11-03 21:22:03,203 [INFO] lithops.invokers -- ExecutorID 850f58-12 | JobID R000 - Selected Runtime: ammarokran/new-smrf-conda36:1.0.6 - 4096MB \n",
      "2021-11-03 21:22:03,254 [INFO] lithops.job.job -- ExecutorID 850f58-12 | JobID R000 - Uploading function and data - Total: 61.5KiB\n",
      "2021-11-03 21:22:03,753 [INFO] lithops.invokers -- ExecutorID 850f58-12 | JobID R000 - Starting function invocation: merg_res() - Total: 1 activations\n",
      "2021-11-03 21:22:03,873 [INFO] lithops.invokers -- ExecutorID 850f58-12 | JobID R000 - View execution logs at C:\\Users\\Ammar\\AppData\\Local\\Temp\\lithops\\logs\\850f58-12-R000.log\n",
      "2021-11-03 21:22:03,873 [INFO] lithops.executors -- ExecutorID 850f58-12 - Getting results\n"
     ]
    },
    {
     "data": {
      "application/vnd.jupyter.widget-view+json": {
       "model_id": "e33279dcfd0d4c8885c1692ce7cf754a",
       "version_major": 2,
       "version_minor": 0
      },
      "text/plain": [
       "    0%|          | 0/65  "
      ]
     },
     "metadata": {},
     "output_type": "display_data"
    },
    {
     "name": "stderr",
     "output_type": "stream",
     "text": [
      "2021-11-03 21:22:56,563 [INFO] lithops.executors -- ExecutorID 850f58-12 - Cleaning temporary data\n"
     ]
    },
    {
     "name": "stdout",
     "output_type": "stream",
     "text": [
      "Total processing time: 54.900328159332275 s\n"
     ]
    },
    {
     "name": "stderr",
     "output_type": "stream",
     "text": [
      "2021-11-03 21:23:16,013 [INFO] lithops.config -- Lithops v2.3.1\n",
      "2021-11-03 21:23:16,064 [INFO] lithops.storage.backends.ibm_cos.ibm_cos -- IBM COS Storage client created - Region: us-east\n",
      "2021-11-03 21:23:16,064 [INFO] lithops.serverless.backends.ibm_cf.ibm_cf -- IBM CF client created - Region: us-east - Namespace: fadi.hassan@urv.cat_fadi\n",
      "2021-11-03 21:23:16,064 [INFO] lithops.executors -- Serverless Executor created with ID: 850f58-13\n",
      "2021-11-03 21:23:16,064 [INFO] lithops.invokers -- ExecutorID 850f58-13 | JobID M000 - Selected Runtime: ammarokran/part-lidar:1.0 - 3072MB \n",
      "2021-11-03 21:23:16,094 [INFO] lithops.job.job -- ExecutorID 850f58-13 | JobID M000 - Uploading function and data - Total: 48.0KiB\n"
     ]
    },
    {
     "name": "stdout",
     "output_type": "stream",
     "text": [
      "smrf_reults folder is not exist!\n"
     ]
    },
    {
     "name": "stderr",
     "output_type": "stream",
     "text": [
      "2021-11-03 21:23:17,148 [INFO] lithops.invokers -- ExecutorID 850f58-13 | JobID M000 - Starting function invocation: partition_file() - Total: 1 activations\n",
      "2021-11-03 21:23:17,254 [INFO] lithops.invokers -- ExecutorID 850f58-13 | JobID M000 - View execution logs at C:\\Users\\Ammar\\AppData\\Local\\Temp\\lithops\\logs\\850f58-13-M000.log\n",
      "2021-11-03 21:23:17,254 [INFO] lithops.executors -- ExecutorID 850f58-13 - Getting results\n"
     ]
    },
    {
     "data": {
      "application/vnd.jupyter.widget-view+json": {
       "model_id": "3a8696b1334c492c9db1e8e9a3640cd6",
       "version_major": 2,
       "version_minor": 0
      },
      "text/plain": [
       "    0%|          | 0/1  "
      ]
     },
     "metadata": {},
     "output_type": "display_data"
    },
    {
     "name": "stderr",
     "output_type": "stream",
     "text": [
      "2021-11-03 21:26:07,393 [INFO] lithops.executors -- ExecutorID 850f58-13 - Cleaning temporary data\n"
     ]
    },
    {
     "name": "stdout",
     "output_type": "stream",
     "text": [
      "Total partition time: 171.39496612548828 s\n"
     ]
    },
    {
     "name": "stderr",
     "output_type": "stream",
     "text": [
      "2021-11-03 21:26:07,724 [INFO] lithops.config -- Lithops v2.3.1\n",
      "2021-11-03 21:26:07,743 [INFO] lithops.storage.backends.ibm_cos.ibm_cos -- IBM COS Storage client created - Region: us-east\n",
      "2021-11-03 21:26:07,743 [INFO] lithops.serverless.backends.ibm_cf.ibm_cf -- IBM CF client created - Region: us-east - Namespace: fadi.hassan@urv.cat_fadi\n",
      "2021-11-03 21:26:07,743 [INFO] lithops.executors -- Serverless Executor created with ID: 850f58-14\n",
      "2021-11-03 21:26:07,748 [INFO] lithops.invokers -- ExecutorID 850f58-14 | JobID M000 - Selected Runtime: ammarokran/new-smrf-conda36:1.0.6 - 512MB \n",
      "2021-11-03 21:26:07,876 [INFO] lithops.job.job -- ExecutorID 850f58-14 | JobID M000 - Uploading function and data - Total: 68.6KiB\n",
      "2021-11-03 21:26:09,208 [INFO] lithops.invokers -- ExecutorID 850f58-14 | JobID M000 - Starting function invocation: smrf_filter() - Total: 128 activations\n",
      "2021-11-03 21:26:09,518 [INFO] lithops.invokers -- ExecutorID 850f58-14 | JobID M000 - View execution logs at C:\\Users\\Ammar\\AppData\\Local\\Temp\\lithops\\logs\\850f58-14-M000.log\n",
      "2021-11-03 21:26:09,524 [INFO] lithops.invokers -- ExecutorID 850f58-14 | JobID R000 - Selected Runtime: ammarokran/new-smrf-conda36:1.0.6 - 4096MB \n",
      "2021-11-03 21:26:09,669 [INFO] lithops.job.job -- ExecutorID 850f58-14 | JobID R000 - Uploading function and data - Total: 73.2KiB\n",
      "2021-11-03 21:26:10,158 [INFO] lithops.invokers -- ExecutorID 850f58-14 | JobID R000 - Starting function invocation: merg_res() - Total: 1 activations\n",
      "2021-11-03 21:26:10,269 [INFO] lithops.invokers -- ExecutorID 850f58-14 | JobID R000 - View execution logs at C:\\Users\\Ammar\\AppData\\Local\\Temp\\lithops\\logs\\850f58-14-R000.log\n",
      "2021-11-03 21:26:10,269 [INFO] lithops.executors -- ExecutorID 850f58-14 - Getting results\n"
     ]
    },
    {
     "data": {
      "application/vnd.jupyter.widget-view+json": {
       "model_id": "7db55c243054452989b9b9337a7900f3",
       "version_major": 2,
       "version_minor": 0
      },
      "text/plain": [
       "    0%|          | 0/129  "
      ]
     },
     "metadata": {},
     "output_type": "display_data"
    },
    {
     "name": "stderr",
     "output_type": "stream",
     "text": [
      "2021-11-03 21:27:05,429 [INFO] lithops.executors -- ExecutorID 850f58-14 - Cleaning temporary data\n"
     ]
    },
    {
     "name": "stdout",
     "output_type": "stream",
     "text": [
      "Total processing time: 58.03995132446289 s\n"
     ]
    },
    {
     "name": "stderr",
     "output_type": "stream",
     "text": [
      "2021-11-03 21:27:43,065 [INFO] lithops.config -- Lithops v2.3.1\n",
      "2021-11-03 21:27:43,118 [INFO] lithops.storage.backends.ibm_cos.ibm_cos -- IBM COS Storage client created - Region: us-east\n",
      "2021-11-03 21:27:43,118 [INFO] lithops.serverless.backends.ibm_cf.ibm_cf -- IBM CF client created - Region: us-east - Namespace: fadi.hassan@urv.cat_fadi\n",
      "2021-11-03 21:27:43,123 [INFO] lithops.executors -- Serverless Executor created with ID: 850f58-15\n",
      "2021-11-03 21:27:43,123 [INFO] lithops.invokers -- ExecutorID 850f58-15 | JobID M000 - Selected Runtime: ammarokran/part-lidar:1.0 - 3072MB \n",
      "2021-11-03 21:27:43,153 [INFO] lithops.job.job -- ExecutorID 850f58-15 | JobID M000 - Uploading function and data - Total: 48.0KiB\n"
     ]
    },
    {
     "name": "stdout",
     "output_type": "stream",
     "text": [
      "smrf_reults folder is not exist!\n"
     ]
    },
    {
     "name": "stderr",
     "output_type": "stream",
     "text": [
      "2021-11-03 21:27:44,214 [INFO] lithops.invokers -- ExecutorID 850f58-15 | JobID M000 - Starting function invocation: partition_file() - Total: 1 activations\n",
      "2021-11-03 21:27:44,324 [INFO] lithops.invokers -- ExecutorID 850f58-15 | JobID M000 - View execution logs at C:\\Users\\Ammar\\AppData\\Local\\Temp\\lithops\\logs\\850f58-15-M000.log\n",
      "2021-11-03 21:27:44,324 [INFO] lithops.executors -- ExecutorID 850f58-15 - Getting results\n"
     ]
    },
    {
     "data": {
      "application/vnd.jupyter.widget-view+json": {
       "model_id": "fdc8363a35fc4f8fa1a75de029e4b887",
       "version_major": 2,
       "version_minor": 0
      },
      "text/plain": [
       "    0%|          | 0/1  "
      ]
     },
     "metadata": {},
     "output_type": "display_data"
    },
    {
     "name": "stderr",
     "output_type": "stream",
     "text": [
      "2021-11-03 21:31:21,674 [INFO] lithops.executors -- ExecutorID 850f58-15 - Cleaning temporary data\n"
     ]
    },
    {
     "name": "stdout",
     "output_type": "stream",
     "text": [
      "Total partition time: 218.6386559009552 s\n"
     ]
    },
    {
     "name": "stderr",
     "output_type": "stream",
     "text": [
      "2021-11-03 21:31:22,154 [INFO] lithops.config -- Lithops v2.3.1\n",
      "2021-11-03 21:31:22,175 [INFO] lithops.storage.backends.ibm_cos.ibm_cos -- IBM COS Storage client created - Region: us-east\n",
      "2021-11-03 21:31:22,175 [INFO] lithops.serverless.backends.ibm_cf.ibm_cf -- IBM CF client created - Region: us-east - Namespace: fadi.hassan@urv.cat_fadi\n",
      "2021-11-03 21:31:22,175 [INFO] lithops.executors -- Serverless Executor created with ID: 850f58-16\n",
      "2021-11-03 21:31:22,175 [INFO] lithops.invokers -- ExecutorID 850f58-16 | JobID M000 - Selected Runtime: ammarokran/new-smrf-conda36:1.0.6 - 512MB \n",
      "2021-11-03 21:31:22,258 [INFO] lithops.job.job -- ExecutorID 850f58-16 | JobID M000 - Uploading function and data - Total: 87.6KiB\n",
      "2021-11-03 21:31:23,374 [INFO] lithops.invokers -- ExecutorID 850f58-16 | JobID M000 - Starting function invocation: smrf_filter() - Total: 256 activations\n",
      "2021-11-03 21:31:24,154 [INFO] lithops.invokers -- ExecutorID 850f58-16 | JobID M000 - View execution logs at C:\\Users\\Ammar\\AppData\\Local\\Temp\\lithops\\logs\\850f58-16-M000.log\n",
      "2021-11-03 21:31:24,164 [INFO] lithops.invokers -- ExecutorID 850f58-16 | JobID R000 - Selected Runtime: ammarokran/new-smrf-conda36:1.0.6 - 4096MB \n",
      "2021-11-03 21:31:24,359 [INFO] lithops.job.job -- ExecutorID 850f58-16 | JobID R000 - Uploading function and data - Total: 96.6KiB\n",
      "2021-11-03 21:31:24,874 [INFO] lithops.invokers -- ExecutorID 850f58-16 | JobID R000 - Starting function invocation: merg_res() - Total: 1 activations\n",
      "2021-11-03 21:31:24,979 [INFO] lithops.invokers -- ExecutorID 850f58-16 | JobID R000 - View execution logs at C:\\Users\\Ammar\\AppData\\Local\\Temp\\lithops\\logs\\850f58-16-R000.log\n",
      "2021-11-03 21:31:24,984 [INFO] lithops.executors -- ExecutorID 850f58-16 - Getting results\n"
     ]
    },
    {
     "data": {
      "application/vnd.jupyter.widget-view+json": {
       "model_id": "fe444f190e664392b5e1dfe78cc1af43",
       "version_major": 2,
       "version_minor": 0
      },
      "text/plain": [
       "    0%|          | 0/257  "
      ]
     },
     "metadata": {},
     "output_type": "display_data"
    },
    {
     "name": "stderr",
     "output_type": "stream",
     "text": [
      "2021-11-03 21:32:41,099 [INFO] lithops.executors -- ExecutorID 850f58-16 - Cleaning temporary data\n"
     ]
    },
    {
     "name": "stdout",
     "output_type": "stream",
     "text": [
      "Total processing time: 79.41012692451477 s\n",
      "Wall time: 35min 12s\n"
     ]
    }
   ],
   "source": [
    "%%time\n",
    "processing_time = []\n",
    "data_folder = 'data'\n",
    "chip_folder = 'chipres'\n",
    "res_map_folder = 'smrf_reults'\n",
    "res_red_folder = 'merged_files'\n",
    "fname = data_folder + '/' + \"Coloreado (RGB) 2016 - PNOA-2016-CAT-352-4556-ORT-CLA-COL.las\"\n",
    "#\"Coloreado (RGB) 2016 - PNOA-2016-CAT-352-4556-ORT-CLA-COL.las\" \"lasfile.las\"\n",
    "# \"Coloreado (RGB) 2016 - PNOA-2016-CAT-352-4554-ORT-CLA-COL.las\"\n",
    "# \"Coloreado (RGB) 2016 - PNOA-2016-CAT-338-4556-ORT-CLA-COL.las\"\n",
    "folders = [chip_folder, res_map_folder]\n",
    "\n",
    "for i in range(9):\n",
    "    \n",
    "    \n",
    "    if i > 0:\n",
    "        \n",
    "        # Start partitioning\n",
    "        # Clean folder in bucket if exists, if not create it\n",
    "        [lidarutils.clean_folder(folder) for folder in folders]\n",
    "    \n",
    "        # Set variables and start partitioning\n",
    "        partitions = 2**i\n",
    "        buffer = 60\n",
    "        num_points = ceil(5492898/partitions) #5492898 3791954 1373224 343306\n",
    "        # print(num_points)\n",
    "        \n",
    "        partition_args = [(fname, chip_folder, num_points, i, buffer) for i in range(1)]\n",
    "        st_split = time.time()\n",
    "        with ServerlessExecutor(runtime_memory=3072) as exec: #runtime_memory=3072\n",
    "            exec.map(partition_file, partition_args)\n",
    "            exec.get_result()\n",
    "        end_split = time.time() - st_split\n",
    "        print(f'Total partition time: {end_split} s')\n",
    "    \n",
    "    # Processing files resulting from the partition stage \n",
    "    st_processing = time.time()\n",
    "    if i == 0:\n",
    "        map_runtime_memory = 2048\n",
    "    elif i > 4:\n",
    "        map_runtime_memory = 512\n",
    "    else:\n",
    "        map_runtime_memory = 1024\n",
    "        \n",
    "    files = os_cl.listdir(chip_folder)\n",
    "    process_args = [(chip_folder + '/' + file, res_map_folder, buffer, st_processing) for file in files] if i > 0 \\\n",
    "                    else [(fname, res_map_folder, 0, st_processing)]\n",
    "    # print(process_args)\n",
    "    with ServerlessExecutor(runtime=\"ammarokran/new-smrf-conda36:1.0.6\") as exec:\n",
    "        exec.map_reduce(smrf_filter, process_args, merg_res, map_runtime_memory=map_runtime_memory,\n",
    "                        reduce_runtime_memory=4096, include_modules=['lidarutils', 'lidarpartitioner', 'utils'])\n",
    "        st_get = time.time()\n",
    "        res = exec.get_result()\n",
    "        end_get = time.time() - st_get\n",
    "        # fexec.clean()\n",
    "    end_processing = time.time() - st_processing\n",
    "    res['GettingResult_time'] = round(end_get, 3)\n",
    "    res['Processing_time'] = round(end_processing, 3)\n",
    "    processing_time.append(res)\n",
    "    print(f'Total processing time: {end_processing} s')"
   ]
  },
  {
   "cell_type": "code",
   "execution_count": 7,
   "id": "27bf97d7",
   "metadata": {},
   "outputs": [
    {
     "name": "stdout",
     "output_type": "stream",
     "text": [
      "SpeedUp ['0 (base)', '1.50937x', '2.23888x', '2.2071x', '2.13061x', '1.55524x', '2.11062x', '1.99643x', '1.45917x']\n"
     ]
    }
   ],
   "source": [
    "# SpeedUp \n",
    "par_times = []\n",
    "df = pd.DataFrame(processing_time)\n",
    "seq_time = df.iloc[0]['Processing_time']\n",
    "\n",
    "par_times = [df.iloc[i]['Processing_time'] for i in range(1, len(df))]\n",
    "SpUp = [str(round((seq_time/v), 5))+'x' for v in par_times]\n",
    "SpUp.insert(0, str(0) + ' (base)')\n",
    "# # print(seq_time, diff)\n",
    "print('SpeedUp %s' % (SpUp))\n",
    "df_spup = pd.DataFrame(SpUp, columns=['SpeedUp'])\n",
    "# df_spup"
   ]
  },
  {
   "cell_type": "code",
   "execution_count": 8,
   "id": "4da2c873",
   "metadata": {},
   "outputs": [],
   "source": [
    "df_spup['Funcs_num'] = df['Funcs_numbers']\n",
    "df_spup['Processing_time'] = df['Processing_time']\n",
    "df_spup = df_spup[['Funcs_num', 'Processing_time', 'SpeedUp']]"
   ]
  },
  {
   "cell_type": "code",
   "execution_count": 9,
   "id": "fcb4f98b",
   "metadata": {},
   "outputs": [
    {
     "data": {
      "text/html": [
       "<div>\n",
       "<style scoped>\n",
       "    .dataframe tbody tr th:only-of-type {\n",
       "        vertical-align: middle;\n",
       "    }\n",
       "\n",
       "    .dataframe tbody tr th {\n",
       "        vertical-align: top;\n",
       "    }\n",
       "\n",
       "    .dataframe thead th {\n",
       "        text-align: right;\n",
       "    }\n",
       "</style>\n",
       "<table border=\"1\" class=\"dataframe\">\n",
       "  <thead>\n",
       "    <tr style=\"text-align: right;\">\n",
       "      <th></th>\n",
       "      <th>Funcs_num</th>\n",
       "      <th>Processing_time</th>\n",
       "      <th>SpeedUp</th>\n",
       "    </tr>\n",
       "  </thead>\n",
       "  <tbody>\n",
       "    <tr>\n",
       "      <th>0</th>\n",
       "      <td>1</td>\n",
       "      <td>115.873</td>\n",
       "      <td>0 (base)</td>\n",
       "    </tr>\n",
       "    <tr>\n",
       "      <th>1</th>\n",
       "      <td>2</td>\n",
       "      <td>76.769</td>\n",
       "      <td>1.50937x</td>\n",
       "    </tr>\n",
       "    <tr>\n",
       "      <th>2</th>\n",
       "      <td>4</td>\n",
       "      <td>51.755</td>\n",
       "      <td>2.23888x</td>\n",
       "    </tr>\n",
       "    <tr>\n",
       "      <th>3</th>\n",
       "      <td>8</td>\n",
       "      <td>52.500</td>\n",
       "      <td>2.2071x</td>\n",
       "    </tr>\n",
       "    <tr>\n",
       "      <th>4</th>\n",
       "      <td>16</td>\n",
       "      <td>54.385</td>\n",
       "      <td>2.13061x</td>\n",
       "    </tr>\n",
       "    <tr>\n",
       "      <th>5</th>\n",
       "      <td>32</td>\n",
       "      <td>74.505</td>\n",
       "      <td>1.55524x</td>\n",
       "    </tr>\n",
       "    <tr>\n",
       "      <th>6</th>\n",
       "      <td>64</td>\n",
       "      <td>54.900</td>\n",
       "      <td>2.11062x</td>\n",
       "    </tr>\n",
       "    <tr>\n",
       "      <th>7</th>\n",
       "      <td>128</td>\n",
       "      <td>58.040</td>\n",
       "      <td>1.99643x</td>\n",
       "    </tr>\n",
       "    <tr>\n",
       "      <th>8</th>\n",
       "      <td>256</td>\n",
       "      <td>79.410</td>\n",
       "      <td>1.45917x</td>\n",
       "    </tr>\n",
       "  </tbody>\n",
       "</table>\n",
       "</div>"
      ],
      "text/plain": [
       "   Funcs_num  Processing_time   SpeedUp\n",
       "0          1          115.873  0 (base)\n",
       "1          2           76.769  1.50937x\n",
       "2          4           51.755  2.23888x\n",
       "3          8           52.500   2.2071x\n",
       "4         16           54.385  2.13061x\n",
       "5         32           74.505  1.55524x\n",
       "6         64           54.900  2.11062x\n",
       "7        128           58.040  1.99643x\n",
       "8        256           79.410  1.45917x"
      ]
     },
     "execution_count": 9,
     "metadata": {},
     "output_type": "execute_result"
    }
   ],
   "source": [
    "df_spup"
   ]
  },
  {
   "cell_type": "code",
   "execution_count": 10,
   "id": "bb5953d0",
   "metadata": {},
   "outputs": [
    {
     "data": {
      "image/png": "[encoded data removed]",
      "text/plain": [
       "<Figure size 432x288 with 1 Axes>"
      ]
     },
     "metadata": {
      "needs_background": "light"
     },
     "output_type": "display_data"
    }
   ],
   "source": [
    "df2 = pd.DataFrame(processing_time)\n",
    "A = list(df2['Processing_time'])\n",
    "\n",
    "ind = np.arange(len(A))    # the x locations for the groups\n",
    "width = 0.7       # the width of the bars: can also be len(x) sequence\n",
    "\n",
    "p1 = plt.bar(ind, A, edgecolor='white', width=width)\n",
    "\n",
    "plt.grid(axis='y', alpha=0.5, ls='--', zorder=0)\n",
    "plt.xlabel('Number of Functions')\n",
    "plt.ylabel('Time by Second (s)')\n",
    "# plt.title('The processing time by using Lithops framework')\n",
    "plt.xticks(ind, list(df2['Funcs_numbers']))\n",
    "plt.savefig('./figures_outlier/SMRF-Processing Time at time %s.png'% (datet), dpi=300, bbox_inches='tight')\n",
    "plt.show()"
   ]
  },
  {
   "cell_type": "code",
   "execution_count": 11,
   "id": "49c4acd4",
   "metadata": {},
   "outputs": [],
   "source": [
    "df2['Proc_time'] = df2['Filtering_time'] + df2['Save_points']"
   ]
  },
  {
   "cell_type": "code",
   "execution_count": 12,
   "id": "75ea3143",
   "metadata": {},
   "outputs": [
    {
     "data": {
      "image/png": "[encoded data removed]",
      "text/plain": [
       "<Figure size 432x288 with 1 Axes>"
      ]
     },
     "metadata": {
      "needs_background": "light"
     },
     "output_type": "display_data"
    }
   ],
   "source": [
    "A = list(df2['Downloading_Time'])\n",
    "B = list(df2['Proc_time'])\n",
    "C = list(df2['Time_Redstart'])\n",
    "D = list(df2['Reduction_time'])\n",
    "# E = list(df2['Reduction_time'])\n",
    "\n",
    "bar1 = np.add(A, B).tolist()\n",
    "bar2 = np.add(A, np.add(B, C)).tolist()\n",
    "# bar3 = np.add(np.add(A, B), np.add(C, D)).tolist()\n",
    "ind = np.arange(len(B)) \n",
    "width = 0.7\n",
    "\n",
    "p1 = plt.bar(ind, A, edgecolor='white', width=width, color='purple')\n",
    "p2 = plt.bar(ind, B, edgecolor='white', width=width,\n",
    "             bottom=A)\n",
    "p3 = plt.bar(ind, C, edgecolor='white', width=width,\n",
    "             bottom=bar1, color='grey')\n",
    "p4 = plt.bar(ind, D, edgecolor='white', width=width,\n",
    "             bottom=bar2)\n",
    "# p5 = plt.bar(ind, E, edgecolor='white', width=width,\n",
    "#              bottom=bar3)\n",
    "plt.grid(axis='y', alpha=0.5, ls='--', zorder=0)\n",
    "plt.xlabel('Number of Functions')\n",
    "plt.ylabel('Time by Second (s)')\n",
    "# plt.title('Approach #1: Time of Processing at a time %s'% (dt_string))\n",
    "plt.xticks(ind, list(df2['Funcs_numbers']))\n",
    "plt.legend((p1[0], p2[0], p3[0], p4[0]), ('Downloading Time(C1)', 'Processing Time(C2)', 'Obtaining Results Time(C3)', \n",
    "                                   'Reduction Time(C4)'), loc='upper left', bbox_to_anchor=(0.41, 1.02))\n",
    "plt.savefig('./figures_outlier/SMRF-Processing Time plot at time %s.png'% (datet), dpi=300, bbox_inches='tight')\n",
    "plt.show()"
   ]
  },
  {
   "cell_type": "code",
   "execution_count": null,
   "id": "4956eb5a",
   "metadata": {},
   "outputs": [],
   "source": []
  }
 ],
 "metadata": {
  "kernelspec": {
   "display_name": "Python 3",
   "language": "python",
   "name": "python3"
  },
  "language_info": {
   "codemirror_mode": {
    "name": "ipython",
    "version": 3
   },
   "file_extension": ".py",
   "mimetype": "text/x-python",
   "name": "python",
   "nbconvert_exporter": "python",
   "pygments_lexer": "ipython3",
   "version": "3.6.10"
  }
 },
 "nbformat": 4,
 "nbformat_minor": 5
}
